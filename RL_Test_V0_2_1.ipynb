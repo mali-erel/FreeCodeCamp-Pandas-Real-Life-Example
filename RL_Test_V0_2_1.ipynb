{
  "cells": [
    {
      "cell_type": "markdown",
      "metadata": {
        "id": "view-in-github",
        "colab_type": "text"
      },
      "source": [
        "<a href=\"https://colab.research.google.com/github/mali-erel/FreeCodeCamp-Pandas-Real-Life-Example/blob/master/RL_Test_V0_2_1.ipynb\" target=\"_parent\"><img src=\"https://colab.research.google.com/assets/colab-badge.svg\" alt=\"Open In Colab\"/></a>"
      ]
    },
    {
      "cell_type": "code",
      "source": [
        "!pip install -q tensorflow\n",
        "!pip install -q gym\n",
        "!pip install -q keras\n",
        "!pip install -q keras-rl2"
      ],
      "metadata": {
        "id": "gZCgl6v3__e8",
        "colab": {
          "base_uri": "https://localhost:8080/"
        },
        "outputId": "079efe17-0faf-4559-d315-ba8f360da8c1"
      },
      "id": "gZCgl6v3__e8",
      "execution_count": null,
      "outputs": [
        {
          "output_type": "stream",
          "name": "stdout",
          "text": [
            "\u001b[?25l     \u001b[90m━━━━━━━━━━━━━━━━━━━━━━━━━━━━━━━━━━━━━━━━\u001b[0m \u001b[32m0.0/52.1 kB\u001b[0m \u001b[31m?\u001b[0m eta \u001b[36m-:--:--\u001b[0m\r\u001b[2K     \u001b[90m━━━━━━━━━━━━━━━━━━━━━━━━━━━━━━━━━━━━━━━━\u001b[0m \u001b[32m52.1/52.1 kB\u001b[0m \u001b[31m1.9 MB/s\u001b[0m eta \u001b[36m0:00:00\u001b[0m\n",
            "\u001b[?25h"
          ]
        }
      ]
    },
    {
      "cell_type": "code",
      "source": [
        "!pip install -q keras\n",
        "!pip install -q keras-rl2"
      ],
      "metadata": {
        "colab": {
          "base_uri": "https://localhost:8080/"
        },
        "id": "ekRaJe3t_TsI",
        "outputId": "6422ff63-1468-469e-8f30-0d484cd3c286"
      },
      "id": "ekRaJe3t_TsI",
      "execution_count": 4,
      "outputs": [
        {
          "output_type": "stream",
          "name": "stdout",
          "text": [
            "\u001b[?25l     \u001b[90m━━━━━━━━━━━━━━━━━━━━━━━━━━━━━━━━━━━━━━━━\u001b[0m \u001b[32m0.0/52.1 kB\u001b[0m \u001b[31m?\u001b[0m eta \u001b[36m-:--:--\u001b[0m\r\u001b[2K     \u001b[90m━━━━━━━━━━━━━━━━━━━━━━━━━━━━━━━━━━━━━━━━\u001b[0m \u001b[32m52.1/52.1 kB\u001b[0m \u001b[31m1.5 MB/s\u001b[0m eta \u001b[36m0:00:00\u001b[0m\n",
            "\u001b[?25h"
          ]
        }
      ]
    },
    {
      "cell_type": "markdown",
      "source": [
        "### Imports"
      ],
      "metadata": {
        "id": "F3jBe0ZgWQ20"
      },
      "id": "F3jBe0ZgWQ20"
    },
    {
      "cell_type": "code",
      "execution_count": 16,
      "id": "5a354e2a-2d8b-4133-b74f-c2c11a7c9886",
      "metadata": {
        "tags": [],
        "colab": {
          "base_uri": "https://localhost:8080/"
        },
        "id": "5a354e2a-2d8b-4133-b74f-c2c11a7c9886",
        "outputId": "de96a09d-d807-454f-ff27-ad7e01e31bfb"
      },
      "outputs": [
        {
          "output_type": "stream",
          "name": "stderr",
          "text": [
            "/usr/local/lib/python3.10/dist-packages/ipykernel/ipkernel.py:283: DeprecationWarning: `should_run_async` will not call `transform_cell` automatically in the future. Please pass the result to `transformed_cell` argument and any exception that happen during thetransform in `preprocessing_exc_tuple` in IPython 7.17 and above.\n",
            "  and should_run_async(code)\n"
          ]
        }
      ],
      "source": [
        "import numpy as np\n",
        "from matplotlib import pyplot as plt\n",
        "import matplotlib.image as mpimg\n",
        "import gym\n",
        "from gym import Env\n",
        "from gym.spaces import Discrete, Box\n",
        "import random\n",
        "import math\n",
        "import tensorflow as tf\n",
        "import keras\n",
        "import pandas as pd\n",
        "\n",
        "from tensorflow.keras.models import Sequential\n",
        "\n",
        "from tensorflow.keras.layers import Dense, Flatten\n",
        "from tensorflow.keras.optimizers.legacy import Adam\n",
        "from tensorflow.keras.callbacks import TensorBoard\n",
        "\n",
        "from keras import __version__\n",
        "tf.keras.__version__ = __version__\n",
        "\n",
        "from rl.agents.dqn import DQNAgent\n",
        "from rl.policy import BoltzmannQPolicy\n",
        "from rl.memory import SequentialMemory\n",
        "\n",
        "from math import pow"
      ]
    },
    {
      "cell_type": "markdown",
      "id": "0195499a-3efe-4f25-98b6-9658cbb646cb",
      "metadata": {
        "jp-MarkdownHeadingCollapsed": true,
        "tags": [],
        "id": "0195499a-3efe-4f25-98b6-9658cbb646cb"
      },
      "source": [
        "## GYM Environment Experimental"
      ]
    },
    {
      "cell_type": "markdown",
      "id": "9611c711-3320-4947-a64c-53e288631883",
      "metadata": {
        "tags": [],
        "id": "9611c711-3320-4947-a64c-53e288631883"
      },
      "source": [
        "### Relay 2"
      ]
    },
    {
      "cell_type": "code",
      "source": [
        "x_rl2 = np.arange(1.5, 25, 0.5)"
      ],
      "metadata": {
        "id": "dDcVEuaTAzsw"
      },
      "id": "dDcVEuaTAzsw",
      "execution_count": 74,
      "outputs": []
    },
    {
      "cell_type": "code",
      "source": [
        "y_rl2[len(y_rl2)-1]\n",
        "y_rl2"
      ],
      "metadata": {
        "colab": {
          "base_uri": "https://localhost:8080/"
        },
        "id": "1l72bOrnDFdn",
        "outputId": "e95dbdcc-6c7b-4783-8eef-7340987e26bf"
      },
      "id": "1l72bOrnDFdn",
      "execution_count": 91,
      "outputs": [
        {
          "output_type": "execute_result",
          "data": {
            "text/plain": [
              "array([8.59710942, 5.01451351, 3.78485524, 3.15096546, 2.75897075,\n",
              "       2.48987805, 2.29218338, 2.13986004, 2.01828814, 1.91859623,\n",
              "       1.83507409, 1.76387122, 1.70229137, 1.64838681, 1.60071312,\n",
              "       1.55817498, 1.51992561, 1.48529931, 1.45376493, 1.42489311,\n",
              "       1.39833271, 1.37379351, 1.35103338, 1.32984859, 1.31006633,\n",
              "       1.29153901, 1.27413973, 1.25775873, 1.24230052, 1.22768161,\n",
              "       1.21382867, 1.20067696, 1.18816911, 1.17625409, 1.16488632,\n",
              "       1.15402495, 1.14363328, 1.13367818, 1.12412973, 1.11496076,\n",
              "       1.10614658, 1.09766468, 1.08949452, 1.08161724, 1.07401559,\n",
              "       1.06667368, 1.05957687, 1.05957687, 0.99444614, 0.9498472 ,\n",
              "       0.91422794, 0.88488466, 0.86013412, 0.83886627, 0.8203153 ,\n",
              "       0.80393336, 0.80393336, 0.9498472 , 0.91422794, 0.88488466,\n",
              "       0.86013412, 0.83886627, 0.8203153 , 0.80393336])"
            ]
          },
          "metadata": {},
          "execution_count": 91
        }
      ]
    },
    {
      "cell_type": "code",
      "source": [
        "x_rl2 = np.arange(1.5, 25, 0.5)\n",
        "x_rl2"
      ],
      "metadata": {
        "colab": {
          "base_uri": "https://localhost:8080/"
        },
        "id": "rBHqi4dmDN45",
        "outputId": "95e333ba-b88d-4358-b86f-a3a0f099bdce"
      },
      "id": "rBHqi4dmDN45",
      "execution_count": 106,
      "outputs": [
        {
          "output_type": "execute_result",
          "data": {
            "text/plain": [
              "array([ 1.5,  2. ,  2.5,  3. ,  3.5,  4. ,  4.5,  5. ,  5.5,  6. ,  6.5,\n",
              "        7. ,  7.5,  8. ,  8.5,  9. ,  9.5, 10. , 10.5, 11. , 11.5, 12. ,\n",
              "       12.5, 13. , 13.5, 14. , 14.5, 15. , 15.5, 16. , 16.5, 17. , 17.5,\n",
              "       18. , 18.5, 19. , 19.5, 20. , 20.5, 21. , 21.5, 22. , 22.5, 23. ,\n",
              "       23.5, 24. , 24.5])"
            ]
          },
          "metadata": {},
          "execution_count": 106
        }
      ]
    },
    {
      "cell_type": "code",
      "execution_count": 107,
      "id": "3bd99b09-e8bd-4513-bc0e-7f9c336e9526",
      "metadata": {
        "tags": [],
        "id": "3bd99b09-e8bd-4513-bc0e-7f9c336e9526"
      },
      "outputs": [],
      "source": [
        "#x_rl2 = np.linspace(1.23,30,30)\n",
        "TMS=0.5\n",
        "y_vals = []\n",
        "for x in x_rl2:\n",
        "    y_vals.append(TMS*((0.14)/(pow(x,0.02)-1)))\n",
        "y_rl2 = np.array(y_vals)\n",
        "y_rl2 = np.append(y_rl2,(0.1,0.1,0.1,0.1,0.1,0.1,0.1,0.1,0.1))\n",
        "x_rl2 = np.append(x_rl2,(x_rl2[len(x_rl2)-1],30,35,40,45,50,55,60,65))"
      ]
    },
    {
      "cell_type": "code",
      "source": [
        "plt.xlabel(\"Amps x 100\")\n",
        "plt.ylabel(\"Seconds\")\n",
        "plt.plot(x_rl2, y_rl2*6, color = 'red')"
      ],
      "metadata": {
        "colab": {
          "base_uri": "https://localhost:8080/",
          "height": 467
        },
        "id": "RZDs7aB5GFhs",
        "outputId": "551138bd-19fd-4e3f-f0e7-5441687e3e24"
      },
      "id": "RZDs7aB5GFhs",
      "execution_count": 111,
      "outputs": [
        {
          "output_type": "execute_result",
          "data": {
            "text/plain": [
              "[<matplotlib.lines.Line2D at 0x7d55da783910>]"
            ]
          },
          "metadata": {},
          "execution_count": 111
        },
        {
          "output_type": "display_data",
          "data": {
            "text/plain": [
              "<Figure size 640x480 with 1 Axes>"
            ],
            "image/png": "[encoded data removed]"
          },
          "metadata": {}
        }
      ]
    },
    {
      "cell_type": "markdown",
      "id": "f1aee54a-12db-4623-902a-62de24accf24",
      "metadata": {
        "tags": [],
        "id": "f1aee54a-12db-4623-902a-62de24accf24"
      },
      "source": [
        "### Relay 1"
      ]
    },
    {
      "cell_type": "code",
      "source": [
        "x_rl1 = np.arange(1.5, 35, 0.5)\n",
        "x_rl1"
      ],
      "metadata": {
        "colab": {
          "base_uri": "https://localhost:8080/"
        },
        "id": "MM9rOS64GoeI",
        "outputId": "68ecb85c-4f5d-4d63-ce78-2b77a9f8e0e6"
      },
      "id": "MM9rOS64GoeI",
      "execution_count": 127,
      "outputs": [
        {
          "output_type": "execute_result",
          "data": {
            "text/plain": [
              "array([ 1.5,  2. ,  2.5,  3. ,  3.5,  4. ,  4.5,  5. ,  5.5,  6. ,  6.5,\n",
              "        7. ,  7.5,  8. ,  8.5,  9. ,  9.5, 10. , 10.5, 11. , 11.5, 12. ,\n",
              "       12.5, 13. , 13.5, 14. , 14.5, 15. , 15.5, 16. , 16.5, 17. , 17.5,\n",
              "       18. , 18.5, 19. , 19.5, 20. , 20.5, 21. , 21.5, 22. , 22.5, 23. ,\n",
              "       23.5, 24. , 24.5, 25. , 25.5, 26. , 26.5, 27. , 27.5, 28. , 28.5,\n",
              "       29. , 29.5, 30. , 30.5, 31. , 31.5, 32. , 32.5, 33. , 33.5, 34. ,\n",
              "       34.5])"
            ]
          },
          "metadata": {},
          "execution_count": 127
        }
      ]
    },
    {
      "cell_type": "code",
      "execution_count": 128,
      "id": "5105af3b-08c5-4896-ade5-9db82e8a6668",
      "metadata": {
        "tags": [],
        "id": "5105af3b-08c5-4896-ade5-9db82e8a6668"
      },
      "outputs": [],
      "source": [
        "#x_rl1 = np.linspace(1.1,30,30)\n",
        "TMS_rl1 = 0.67\n",
        "y_rl1 =[]\n",
        "for x in x_rl1:\n",
        "    y_rl1.append((TMS_rl1 * ((0.14)/(pow(x,0.02)-1))))\n",
        "y_rl1 = np.array(y_rl1)\n",
        "y_rl1 = np.append(y_rl1,(0.5,0.5,0.5,0.5,0.5,0.5,0.5,0.5,0.5))\n",
        "x_rl1 = np.append(x_rl1,(x_rl1[len(x_rl1)-1],40,45,50,55,60,65,70,75))"
      ]
    },
    {
      "cell_type": "code",
      "source": [
        "plt.xlabel(\"Amps x 100\")\n",
        "plt.ylabel(\"Seconds\")\n",
        "plt.plot(x_rl1, y_rl1, color = 'blue')"
      ],
      "metadata": {
        "colab": {
          "base_uri": "https://localhost:8080/",
          "height": 471
        },
        "id": "sGGNASK1hOI5",
        "outputId": "96ccd394-5df3-4632-ba98-4cb8d9a3656b"
      },
      "id": "sGGNASK1hOI5",
      "execution_count": 129,
      "outputs": [
        {
          "output_type": "execute_result",
          "data": {
            "text/plain": [
              "[<matplotlib.lines.Line2D at 0x7d55da658040>]"
            ]
          },
          "metadata": {},
          "execution_count": 129
        },
        {
          "output_type": "display_data",
          "data": {
            "text/plain": [
              "<Figure size 640x480 with 1 Axes>"
            ],
            "image/png": "[encoded data removed]"
          },
          "metadata": {}
        }
      ]
    },
    {
      "cell_type": "code",
      "source": [
        "plt.plot(x_rl1,y_rl1,'g')\n",
        "plt.plot(x_rl2,y_rl2,'r')\n",
        "plt.xlabel('Amps')\n",
        "plt.ylabel('Seconds')\n",
        "plt.legend([\"Relay 1\", \"Relay 2\"], loc =\"lower right\")"
      ],
      "metadata": {
        "colab": {
          "base_uri": "https://localhost:8080/",
          "height": 470
        },
        "id": "IIAtgRN5cBbh",
        "outputId": "fc0a3d17-c09e-43f4-f6f2-dc3079f5ad19"
      },
      "id": "IIAtgRN5cBbh",
      "execution_count": 130,
      "outputs": [
        {
          "output_type": "execute_result",
          "data": {
            "text/plain": [
              "<matplotlib.legend.Legend at 0x7d55da4aa170>"
            ]
          },
          "metadata": {},
          "execution_count": 130
        },
        {
          "output_type": "display_data",
          "data": {
            "text/plain": [
              "<Figure size 640x480 with 1 Axes>"
            ],
            "image/png": "[encoded data removed]"
          },
          "metadata": {}
        }
      ]
    },
    {
      "cell_type": "code",
      "source": [
        "np.arange(2.34, 31.97, 2)"
      ],
      "metadata": {
        "colab": {
          "base_uri": "https://localhost:8080/"
        },
        "id": "qus8Tooxe2mt",
        "outputId": "b25603c4-cc03-47e2-820b-7f7135997293"
      },
      "id": "qus8Tooxe2mt",
      "execution_count": 90,
      "outputs": [
        {
          "output_type": "execute_result",
          "data": {
            "text/plain": [
              "array([ 2.34,  4.34,  6.34,  8.34, 10.34, 12.34, 14.34, 16.34, 18.34,\n",
              "       20.34, 22.34, 24.34, 26.34, 28.34, 30.34])"
            ]
          },
          "metadata": {},
          "execution_count": 90
        }
      ]
    },
    {
      "cell_type": "code",
      "source": [
        "# Python program showing\n",
        "# Graphical representation of\n",
        "# exp() function\n",
        "import numpy as np\n",
        "import matplotlib.pyplot as plt\n",
        "\n",
        "in_array = np.arange(2.34, 31.97, 2)\n",
        "out_array = np.exp(in_array)\n",
        "\n",
        "y = np.flip(in_array)\n",
        "\n",
        "plt.plot(out_array, y, color = 'red', marker = \"o\")\n",
        "plt.title(\"numpy.exp()\")\n",
        "plt.xlabel(\"X\")\n",
        "plt.ylabel(\"Y\")\n",
        "plt.show()"
      ],
      "metadata": {
        "id": "OiAhyYIRIQKg",
        "colab": {
          "base_uri": "https://localhost:8080/",
          "height": 472
        },
        "outputId": "f3287dab-d504-46e2-febf-2a9f0d61e918"
      },
      "id": "OiAhyYIRIQKg",
      "execution_count": 91,
      "outputs": [
        {
          "output_type": "display_data",
          "data": {
            "text/plain": [
              "<Figure size 640x480 with 1 Axes>"
            ],
            "image/png": "[encoded data removed]"
          },
          "metadata": {}
        }
      ]
    },
    {
      "cell_type": "markdown",
      "id": "914c522b-49fd-4c97-94c2-9b8c4b15d5a8",
      "metadata": {
        "tags": [],
        "id": "914c522b-49fd-4c97-94c2-9b8c4b15d5a8"
      },
      "source": [
        "### Starting Graphs of Each Relays"
      ]
    },
    {
      "cell_type": "code",
      "execution_count": 38,
      "id": "290f201f-02df-4d71-bd4f-65a368268d81",
      "metadata": {
        "tags": [],
        "colab": {
          "base_uri": "https://localhost:8080/",
          "height": 736
        },
        "id": "290f201f-02df-4d71-bd4f-65a368268d81",
        "outputId": "a1de853f-08ab-4ec7-9b07-f624907c382e"
      },
      "outputs": [
        {
          "output_type": "execute_result",
          "data": {
            "text/plain": [
              "Text(0.5, 1.0, 'Relay 1')"
            ]
          },
          "metadata": {},
          "execution_count": 38
        },
        {
          "output_type": "display_data",
          "data": {
            "text/plain": [
              "<Figure size 1000x800 with 2 Axes>"
            ],
            "image/png": "[encoded data removed]"
          },
          "metadata": {}
        }
      ],
      "source": [
        "plt.figure(figsize=(10,8))\n",
        "\n",
        "plt.subplot(1,2,1)\n",
        "plt.plot(x_rl2,y_rl2)\n",
        "plt.xlabel('amps x 100')\n",
        "plt.ylabel('seconds')\n",
        "plt.title('Relay 2')\n",
        "\n",
        "plt.subplot(1,2,2)\n",
        "plt.plot(x_rl1,y_rl1)\n",
        "plt.xlabel('amps x 100')\n",
        "plt.ylabel('seconds')\n",
        "plt.title('Relay 1')"
      ]
    },
    {
      "cell_type": "markdown",
      "id": "e1669243-16cc-458e-b57a-75de16c85c49",
      "metadata": {
        "tags": [],
        "id": "e1669243-16cc-458e-b57a-75de16c85c49"
      },
      "source": [
        "### GYM Environemnt"
      ]
    },
    {
      "cell_type": "code",
      "source": [
        "x = random.uniform(0,1)\n",
        "x\n",
        "random.uniform(0.005,1)"
      ],
      "metadata": {
        "colab": {
          "base_uri": "https://localhost:8080/"
        },
        "id": "ujf411V5_xmQ",
        "outputId": "e0bc5354-5f95-4092-c217-6f2e0f263515"
      },
      "id": "ujf411V5_xmQ",
      "execution_count": null,
      "outputs": [
        {
          "output_type": "execute_result",
          "data": {
            "text/plain": [
              "0.6301460658096854"
            ]
          },
          "metadata": {},
          "execution_count": 455
        }
      ]
    },
    {
      "cell_type": "code",
      "execution_count": null,
      "id": "9ff4c86d-b1c4-4381-ad94-d2152fab1d7e",
      "metadata": {
        "tags": [],
        "id": "9ff4c86d-b1c4-4381-ad94-d2152fab1d7e",
        "colab": {
          "base_uri": "https://localhost:8080/"
        },
        "outputId": "b8748288-4212-4bb6-afe5-c65539c16013"
      },
      "outputs": [
        {
          "output_type": "stream",
          "name": "stderr",
          "text": [
            "/usr/local/lib/python3.10/dist-packages/ipykernel/ipkernel.py:283: DeprecationWarning: `should_run_async` will not call `transform_cell` automatically in the future. Please pass the result to `transformed_cell` argument and any exception that happen during thetransform in `preprocessing_exc_tuple` in IPython 7.17 and above.\n",
            "  and should_run_async(code)\n"
          ]
        }
      ],
      "source": [
        "def customCalc(TMS_Value,x_rl1,empty_y_rl1):\n",
        "  for x in x_rl1:\n",
        "    value = TMS_Value*((0.14)/(x**0.02-1))\n",
        "    empty_y_rl1.append(value)\n",
        "  empty_y_rl1 = np.array(empty_y_rl1)\n",
        "  return empty_y_rl1\n",
        "\n",
        "class testEnv(Env):\n",
        "\n",
        "  def __init__(self):\n",
        "      # Axtions we can take: up, down, wait\n",
        "      self.action_space = Discrete(5)\n",
        "      # Action array\n",
        "      # self.action_space = Box(low=-1.0,high=1.0,dtype=np.float32)\n",
        "      self.observation_space = Box(low=0.0,high = 50.0)\n",
        "      #Set start amp array\n",
        "      self.state = np.linspace(1.1,30,30) + random.uniform(-1,1)\n",
        "      # Set time (60 sec)\n",
        "      self.time_length = 60\n",
        "      self.TMS = 0.6\n",
        "      self.dt = 0\n",
        "  def step(self,action):\n",
        "\n",
        "      random_add = 0\n",
        "      y_Env = []\n",
        "\n",
        "      if(action==0):\n",
        "        self.time_length -= 1\n",
        "        self.state += random.uniform(0.05,1)\n",
        "        #  print('Action 0 -- Value:{} -- Time:{}'.format(random_add,self.time_length))\n",
        "      if(action==1):\n",
        "        self.time_length -= 1\n",
        "        self.state += random.uniform(-1,-0.05)\n",
        "        #  print('Action 1 -- Value:{} -- Time:{}'.format(random_add,self.time_length))\n",
        "      if(action==2):\n",
        "        self.state = self.state\n",
        "      if action==3:\n",
        "        self.TMS += 0.05\n",
        "      if action==4:\n",
        "        self.TMS -= 0.05\n",
        "\n",
        "      y_Env = customCalc(self.TMS,self.state,y_Env)\n",
        "      self.dt = np.mean(np.subtract(y_rl2,y_Env))\n",
        "\n",
        "      if self.dt<0.55 and self.dt>0.39:\n",
        "        reward = 1\n",
        "      #elif dt<0.65 and dt>0.25:\n",
        "      #  reward = 1\n",
        "      elif self.dt<0 or self.dt == 0:\n",
        "        reward = -5\n",
        "      else:\n",
        "        reward = -1\n",
        "\n",
        "      if self.TMS<1 and self.TMS>0.4:\n",
        "        reward = 1\n",
        "      elif self.TMS>1:\n",
        "        reward = -1\n",
        "      else:\n",
        "        reward = -1\n",
        "\n",
        "      if self.time_length <=0:\n",
        "          done=True\n",
        "      else:\n",
        "          done=False\n",
        "\n",
        "      info = {'dt':self.dt,'TMS':self.TMS,'x_rl2':self.state.all()}#,'y_rl1':y_Env,'x_rl2':self.state}\n",
        "      return self.state, reward, done, info\n",
        "\n",
        "\n",
        "\n",
        "  def reset(self):\n",
        "      self.state = np.linspace(1.1,30,30)+ random.uniform(-1,1) #+ random.randint(-2,2)\n",
        "      self.time_length = 60\n",
        "      self.TMS = 0.6\n",
        "      self.dt = 0\n",
        "      return self.state\n",
        "\n",
        "  def render(self):\n",
        "    #plt.plot(self.x_rl1_dep,self.y_rl1_dep,'g')\n",
        "    #plt.plot(x_rl2,y_rl2,'r')\n",
        "    #plt.xlabel('Amps')\n",
        "    #plt.ylabel('Seconds')\n",
        "    #plt.legend([\"Relay 1\", \"Relay 2\"], loc =\"lower right\")\n",
        "    pass"
      ]
    },
    {
      "cell_type": "code",
      "source": [
        "env = testEnv()\n",
        "env.reset"
      ],
      "metadata": {
        "colab": {
          "base_uri": "https://localhost:8080/"
        },
        "id": "opAsGYCQ1ix5",
        "outputId": "f75a25c8-44fc-405c-99b1-bf45e020fc15"
      },
      "id": "opAsGYCQ1ix5",
      "execution_count": null,
      "outputs": [
        {
          "output_type": "execute_result",
          "data": {
            "text/plain": [
              "<bound method testEnv.reset of <__main__.testEnv object at 0x7f53f5176470>>"
            ]
          },
          "metadata": {},
          "execution_count": 134
        }
      ]
    },
    {
      "cell_type": "code",
      "source": [
        "env.action_space.sample()"
      ],
      "metadata": {
        "colab": {
          "base_uri": "https://localhost:8080/"
        },
        "id": "Kt1RxBZEFvJc",
        "outputId": "27e63b7f-edaf-4fa7-9ac5-73cac27cd3db"
      },
      "id": "Kt1RxBZEFvJc",
      "execution_count": null,
      "outputs": [
        {
          "output_type": "execute_result",
          "data": {
            "text/plain": [
              "1"
            ]
          },
          "metadata": {},
          "execution_count": 121
        }
      ]
    },
    {
      "cell_type": "code",
      "execution_count": null,
      "id": "99db6d74-fd87-4405-94ed-5ba0968263a3",
      "metadata": {
        "tags": [],
        "colab": {
          "base_uri": "https://localhost:8080/"
        },
        "id": "99db6d74-fd87-4405-94ed-5ba0968263a3",
        "outputId": "63966641-789e-44ae-b891-dc32c71aa9e0"
      },
      "outputs": [
        {
          "output_type": "execute_result",
          "data": {
            "text/plain": [
              "array([ 0.7121194 ,  1.70867112,  2.70522284,  3.70177457,  4.69832629,\n",
              "        5.69487802,  6.69142974,  7.68798146,  8.68453319,  9.68108491,\n",
              "       10.67763664, 11.67418836, 12.67074009, 13.66729181, 14.66384353,\n",
              "       15.66039526, 16.65694698, 17.65349871, 18.65005043, 19.64660215,\n",
              "       20.64315388, 21.6397056 , 22.63625733, 23.63280905, 24.62936077,\n",
              "       25.6259125 , 26.62246422, 27.61901595, 28.61556767, 29.6121194 ])"
            ]
          },
          "metadata": {},
          "execution_count": 122
        }
      ],
      "source": [
        "env.state"
      ]
    },
    {
      "cell_type": "code",
      "execution_count": null,
      "id": "d745b64f-5fd3-4fe3-acc5-8b2a00f62287",
      "metadata": {
        "tags": [],
        "colab": {
          "base_uri": "https://localhost:8080/"
        },
        "id": "d745b64f-5fd3-4fe3-acc5-8b2a00f62287",
        "outputId": "ac14eb35-435e-4b41-dbe5-4d8440599dc0"
      },
      "outputs": [
        {
          "output_type": "execute_result",
          "data": {
            "text/plain": [
              "Box(0.0, 100.0, (1,), float32)"
            ]
          },
          "metadata": {},
          "execution_count": 123
        }
      ],
      "source": [
        "env.observation_space"
      ]
    },
    {
      "cell_type": "code",
      "source": [
        "env.action_space.n"
      ],
      "metadata": {
        "colab": {
          "base_uri": "https://localhost:8080/"
        },
        "id": "1lkrmdyhymNf",
        "outputId": "f1806753-7f62-459e-ef15-4367b09b9f61"
      },
      "id": "1lkrmdyhymNf",
      "execution_count": null,
      "outputs": [
        {
          "output_type": "execute_result",
          "data": {
            "text/plain": [
              "5"
            ]
          },
          "metadata": {},
          "execution_count": 124
        }
      ]
    },
    {
      "cell_type": "code",
      "execution_count": null,
      "id": "da96e024-18c0-4bae-b690-c8aca2aced7c",
      "metadata": {
        "tags": [],
        "colab": {
          "base_uri": "https://localhost:8080/"
        },
        "id": "da96e024-18c0-4bae-b690-c8aca2aced7c",
        "outputId": "43a25012-c953-4ca2-9aa7-71f4cb64d3aa"
      },
      "outputs": [
        {
          "output_type": "execute_result",
          "data": {
            "text/plain": [
              "array([ 1.1       ,  2.09655172,  3.09310345,  4.08965517,  5.0862069 ,\n",
              "        6.08275862,  7.07931034,  8.07586207,  9.07241379, 10.06896552,\n",
              "       11.06551724, 12.06206897, 13.05862069, 14.05517241, 15.05172414,\n",
              "       16.04827586, 17.04482759, 18.04137931, 19.03793103, 20.03448276,\n",
              "       21.03103448, 22.02758621, 23.02413793, 24.02068966, 25.01724138,\n",
              "       26.0137931 , 27.01034483, 28.00689655, 29.00344828, 30.        ])"
            ]
          },
          "metadata": {},
          "execution_count": 125
        }
      ],
      "source": [
        "x_rl1"
      ]
    },
    {
      "cell_type": "markdown",
      "id": "189215aa-d27d-4e4e-8c40-a32b267ccddb",
      "metadata": {
        "tags": [],
        "id": "189215aa-d27d-4e4e-8c40-a32b267ccddb"
      },
      "source": [
        "### Test"
      ]
    },
    {
      "cell_type": "code",
      "execution_count": null,
      "id": "70ecbb47-21f8-486c-9ee1-5df553f688c9",
      "metadata": {
        "tags": [],
        "colab": {
          "base_uri": "https://localhost:8080/"
        },
        "id": "70ecbb47-21f8-486c-9ee1-5df553f688c9",
        "outputId": "a8f632fc-ef22-48fb-9225-5815f53496a5"
      },
      "outputs": [
        {
          "output_type": "stream",
          "name": "stderr",
          "text": [
            "<ipython-input-41-f29debd14c15>:3: RuntimeWarning: invalid value encountered in double_scalars\n",
            "  value = TMS_Value*((0.14)/(x**0.02-1))\n"
          ]
        },
        {
          "output_type": "stream",
          "name": "stdout",
          "text": [
            "Episode:1 Score:114\n",
            "Episode:2 Score:135\n",
            "Episode:3 Score:119\n",
            "Episode:4 Score:159\n",
            "Episode:5 Score:151\n",
            "Episode:6 Score:175\n",
            "Episode:7 Score:148\n",
            "Episode:8 Score:147\n",
            "Episode:9 Score:182\n",
            "Episode:10 Score:148\n",
            "Episode:11 Score:139\n",
            "Episode:12 Score:148\n",
            "Episode:13 Score:118\n",
            "Episode:14 Score:146\n",
            "Episode:15 Score:140\n",
            "Episode:16 Score:147\n",
            "Episode:17 Score:172\n",
            "Episode:18 Score:147\n",
            "Episode:19 Score:141\n",
            "Episode:20 Score:147\n",
            "Episode:21 Score:142\n",
            "Episode:22 Score:171\n",
            "Episode:23 Score:155\n",
            "Episode:24 Score:132\n",
            "Episode:25 Score:159\n",
            "Episode:26 Score:158\n",
            "Episode:27 Score:148\n",
            "Episode:28 Score:146\n",
            "Episode:29 Score:136\n",
            "Episode:30 Score:137\n",
            "Episode:31 Score:148\n",
            "Episode:32 Score:166\n",
            "Episode:33 Score:195\n",
            "Episode:34 Score:123\n",
            "Episode:35 Score:163\n",
            "Episode:36 Score:170\n",
            "Episode:37 Score:178\n",
            "Episode:38 Score:145\n",
            "Episode:39 Score:140\n",
            "Episode:40 Score:144\n",
            "Episode:41 Score:150\n",
            "Episode:42 Score:153\n",
            "Episode:43 Score:151\n",
            "Episode:44 Score:160\n",
            "Episode:45 Score:156\n",
            "Episode:46 Score:139\n",
            "Episode:47 Score:154\n",
            "Episode:48 Score:152\n",
            "Episode:49 Score:169\n",
            "Episode:50 Score:152\n"
          ]
        }
      ],
      "source": [
        "episodes = 50\n",
        "stop = False\n",
        "for episode in range(1,episodes+1):\n",
        "  state = env.reset()\n",
        "  done = False\n",
        "  score = 0\n",
        "\n",
        "  while not done:\n",
        "\n",
        "    action = env.action_space.sample()\n",
        "    x_rl1_state, reward, done, info = env.step(action)\n",
        "    #env.render()\n",
        "    #print('Reward:{}'.format(reward))\n",
        "    score += reward\n",
        "  print('Episode:{} Score:{}'.format(episode,score))\n",
        "    #score += reward\n",
        "    #if score >= 100:\n",
        "    #  stop = True\n",
        "    #if stop == True:\n",
        "    #  break"
      ]
    },
    {
      "cell_type": "code",
      "execution_count": null,
      "id": "ad39e3ee-734b-49fa-9aae-a85ac36d056a",
      "metadata": {
        "tags": [],
        "id": "ad39e3ee-734b-49fa-9aae-a85ac36d056a",
        "colab": {
          "base_uri": "https://localhost:8080/"
        },
        "outputId": "bbbdd84b-67fe-4b10-e861-8ac254dfe782"
      },
      "outputs": [
        {
          "output_type": "execute_result",
          "data": {
            "text/plain": [
              "array([ 0.28756892,  1.28412064,  2.28067236,  3.27722409,  4.27377581,\n",
              "        5.27032754,  6.26687926,  7.26343098,  8.25998271,  9.25653443,\n",
              "       10.25308616, 11.24963788, 12.24618961, 13.24274133, 14.23929305,\n",
              "       15.23584478, 16.2323965 , 17.22894823, 18.22549995, 19.22205167,\n",
              "       20.2186034 , 21.21515512, 22.21170685, 23.20825857, 24.2048103 ,\n",
              "       25.20136202, 26.19791374, 27.19446547, 28.19101719, 29.18756892])"
            ]
          },
          "metadata": {},
          "execution_count": 140
        }
      ],
      "source": [
        "env.reset()"
      ]
    },
    {
      "cell_type": "code",
      "execution_count": null,
      "id": "d9443710-d361-4635-958e-bc8092350f32",
      "metadata": {
        "tags": [],
        "id": "d9443710-d361-4635-958e-bc8092350f32",
        "colab": {
          "base_uri": "https://localhost:8080/"
        },
        "outputId": "77df3201-c9e7-4c50-9f73-e29c2b2c4fa2"
      },
      "outputs": [
        {
          "output_type": "stream",
          "name": "stderr",
          "text": [
            "<ipython-input-119-4228bcb7bc59>:3: RuntimeWarning: invalid value encountered in double_scalars\n",
            "  value = TMS_Value*((0.14)/(x**0.02-1))\n"
          ]
        }
      ],
      "source": [
        "x_rl1_state, reward, done, info,y_rl1_state= env.step(action)"
      ]
    },
    {
      "cell_type": "code",
      "source": [
        "info"
      ],
      "metadata": {
        "colab": {
          "base_uri": "https://localhost:8080/"
        },
        "id": "N9wEHsCzIJfl",
        "outputId": "c7fc470c-447d-47f7-be03-0b277efbd845"
      },
      "id": "N9wEHsCzIJfl",
      "execution_count": null,
      "outputs": [
        {
          "output_type": "execute_result",
          "data": {
            "text/plain": [
              "{'dt': nan, 'TMS': 0.6040621931000363}"
            ]
          },
          "metadata": {},
          "execution_count": 142
        }
      ]
    },
    {
      "cell_type": "code",
      "execution_count": null,
      "id": "03164246-7da0-430e-b3eb-c97720075d27",
      "metadata": {
        "tags": [],
        "colab": {
          "base_uri": "https://localhost:8080/"
        },
        "id": "03164246-7da0-430e-b3eb-c97720075d27",
        "outputId": "e780d5b2-b1f5-44d3-e9f2-606c102c596c"
      },
      "outputs": [
        {
          "output_type": "execute_result",
          "data": {
            "text/plain": [
              "array([ 2.333608  ,  3.33015972,  4.32671145,  5.32326317,  6.3198149 ,\n",
              "        7.31636662,  8.31291835,  9.30947007, 10.30602179, 11.30257352,\n",
              "       12.29912524, 13.29567697, 14.29222869, 15.28878041, 16.28533214,\n",
              "       17.28188386, 18.27843559, 19.27498731, 20.27153904, 21.26809076,\n",
              "       22.26464248, 23.26119421, 24.25774593, 25.25429766, 26.25084938,\n",
              "       27.2474011 , 28.24395283, 29.24050455, 30.23705628, 31.233608  ])"
            ]
          },
          "metadata": {},
          "execution_count": 33
        }
      ],
      "source": [
        "x_rl1_state"
      ]
    },
    {
      "cell_type": "code",
      "execution_count": null,
      "id": "663c3441-d550-47f2-9e7c-2ac13d7b32a6",
      "metadata": {
        "tags": [],
        "colab": {
          "base_uri": "https://localhost:8080/",
          "height": 181
        },
        "id": "663c3441-d550-47f2-9e7c-2ac13d7b32a6",
        "outputId": "9da0648c-ca93-4d20-9b8a-5a0d52598784"
      },
      "outputs": [
        {
          "output_type": "error",
          "ename": "NameError",
          "evalue": "ignored",
          "traceback": [
            "\u001b[0;31m---------------------------------------------------------------------------\u001b[0m",
            "\u001b[0;31mNameError\u001b[0m                                 Traceback (most recent call last)",
            "\u001b[0;32m<ipython-input-34-742b533e3ee1>\u001b[0m in \u001b[0;36m<cell line: 1>\u001b[0;34m()\u001b[0m\n\u001b[0;32m----> 1\u001b[0;31m \u001b[0my_rl1_state\u001b[0m\u001b[0;34m\u001b[0m\u001b[0;34m\u001b[0m\u001b[0m\n\u001b[0m",
            "\u001b[0;31mNameError\u001b[0m: name 'y_rl1_state' is not defined"
          ]
        }
      ],
      "source": [
        "y_rl1_state"
      ]
    },
    {
      "cell_type": "code",
      "execution_count": null,
      "id": "563a580a-6dd0-47eb-8f39-828650b02adb",
      "metadata": {
        "tags": [],
        "colab": {
          "base_uri": "https://localhost:8080/"
        },
        "id": "563a580a-6dd0-47eb-8f39-828650b02adb",
        "outputId": "60d8adec-4c6e-436a-e272-81e54b2b109c"
      },
      "outputs": [
        {
          "output_type": "execute_result",
          "data": {
            "text/plain": [
              "4856"
            ]
          },
          "metadata": {},
          "execution_count": 21
        }
      ],
      "source": [
        "score"
      ]
    },
    {
      "cell_type": "code",
      "execution_count": null,
      "id": "2426ce1c-dbbc-4bf6-941d-63563d7a585d",
      "metadata": {
        "tags": [],
        "colab": {
          "base_uri": "https://localhost:8080/"
        },
        "id": "2426ce1c-dbbc-4bf6-941d-63563d7a585d",
        "outputId": "70971d51-cb23-42bf-ccff-b64887e899fd"
      },
      "outputs": [
        {
          "output_type": "execute_result",
          "data": {
            "text/plain": [
              "True"
            ]
          },
          "metadata": {},
          "execution_count": 22
        }
      ],
      "source": [
        "done"
      ]
    },
    {
      "cell_type": "code",
      "source": [
        "info"
      ],
      "metadata": {
        "colab": {
          "base_uri": "https://localhost:8080/"
        },
        "id": "ez17vFS8UvKa",
        "outputId": "0c37e9f2-a805-47c0-8da3-b559922532a4"
      },
      "id": "ez17vFS8UvKa",
      "execution_count": null,
      "outputs": [
        {
          "output_type": "execute_result",
          "data": {
            "text/plain": [
              "{'dt': -0.25641934686076956, 'TMS': 0.5367003151721553}"
            ]
          },
          "metadata": {},
          "execution_count": 118
        }
      ]
    },
    {
      "cell_type": "markdown",
      "id": "e6525e4d-5993-4822-80af-a1eedca69b7b",
      "metadata": {
        "tags": [],
        "id": "e6525e4d-5993-4822-80af-a1eedca69b7b"
      },
      "source": [
        "### Visiluation"
      ]
    },
    {
      "cell_type": "code",
      "execution_count": null,
      "id": "4188dac4-67d7-4709-b3b3-31fef4fd9932",
      "metadata": {
        "tags": [],
        "colab": {
          "base_uri": "https://localhost:8080/",
          "height": 181
        },
        "id": "4188dac4-67d7-4709-b3b3-31fef4fd9932",
        "outputId": "cf2e36f4-26bc-43f1-d83d-a1dac20e9365"
      },
      "outputs": [
        {
          "output_type": "error",
          "ename": "NameError",
          "evalue": "ignored",
          "traceback": [
            "\u001b[0;31m---------------------------------------------------------------------------\u001b[0m",
            "\u001b[0;31mNameError\u001b[0m                                 Traceback (most recent call last)",
            "\u001b[0;32m<ipython-input-24-6cc10cfc12a8>\u001b[0m in \u001b[0;36m<cell line: 1>\u001b[0;34m()\u001b[0m\n\u001b[0;32m----> 1\u001b[0;31m \u001b[0mplt\u001b[0m\u001b[0;34m.\u001b[0m\u001b[0mplot\u001b[0m\u001b[0;34m(\u001b[0m\u001b[0mx_rl1_state\u001b[0m\u001b[0;34m,\u001b[0m\u001b[0my_rl1_state\u001b[0m\u001b[0;34m)\u001b[0m\u001b[0;34m\u001b[0m\u001b[0;34m\u001b[0m\u001b[0m\n\u001b[0m",
            "\u001b[0;31mNameError\u001b[0m: name 'y_rl1_state' is not defined"
          ]
        }
      ],
      "source": [
        "plt.plot(x_rl1_state,y_rl1_state)"
      ]
    },
    {
      "cell_type": "code",
      "execution_count": null,
      "id": "ffa082e9-d27b-4151-85e2-9f2cff1e645b",
      "metadata": {
        "tags": [],
        "colab": {
          "base_uri": "https://localhost:8080/",
          "height": 811
        },
        "id": "ffa082e9-d27b-4151-85e2-9f2cff1e645b",
        "outputId": "7309aaed-dd4a-452a-9453-52cb1fc91668"
      },
      "outputs": [
        {
          "output_type": "display_data",
          "data": {
            "text/plain": [
              "<Figure size 1000x800 with 5 Axes>"
            ],
            "image/png": "[encoded data removed]"
          },
          "metadata": {}
        }
      ],
      "source": [
        "img = mpimg.imread('equ.png')\n",
        "\n",
        "plt.figure(figsize=(10,8))\n",
        "\n",
        "plt.subplot(3,2,1)\n",
        "plt.plot(x_rl1,y_rl1)\n",
        "plt.title('Relay 1: Starting State')\n",
        "plt.xlabel('Amps')\n",
        "plt.ylabel('Seconds')\n",
        "\n",
        "plt.subplot(3,2,2)\n",
        "plt.plot(x_rl2,y_rl2)\n",
        "plt.title('Relay 2')\n",
        "plt.xlabel('Amps')\n",
        "plt.ylabel('Seconds')\n",
        "\n",
        "plt.subplot(3,2,3)\n",
        "plt.plot(x_rl1_state,y_rl1_state)\n",
        "plt.title('Relay 1: Last State')\n",
        "plt.xlabel('Amps')\n",
        "plt.ylabel('Seconds')\n",
        "\n",
        "plt.subplot(3,2,4)\n",
        "plt.plot(x_rl1_state,y_rl1_state,'g')\n",
        "plt.plot(x_rl2,y_rl2,'r')\n",
        "plt.xlabel('Amps')\n",
        "plt.ylabel('Seconds')\n",
        "plt.legend([\"Relay 1\", \"Relay 2\"], loc =\"lower right\")\n",
        "\n",
        "plt.subplot(3,2,5)\n",
        "plt.imshow(img)\n",
        "plt.title('')\n",
        "\n",
        "plt.tight_layout()  # Otomatik düzenleme için\n",
        "plt.show()"
      ]
    },
    {
      "cell_type": "markdown",
      "id": "756b7eb3-6f91-4de4-b2e7-e95339cc0754",
      "metadata": {
        "id": "756b7eb3-6f91-4de4-b2e7-e95339cc0754"
      },
      "source": [
        "# Keras RL"
      ]
    },
    {
      "cell_type": "code",
      "source": [
        "a = 0"
      ],
      "metadata": {
        "id": "btlIKwFF_8DT"
      },
      "id": "btlIKwFF_8DT",
      "execution_count": null,
      "outputs": []
    },
    {
      "cell_type": "code",
      "source": [
        "state, r, done, info = env.step(1)\n",
        "\n",
        "a += r\n",
        "a"
      ],
      "metadata": {
        "colab": {
          "base_uri": "https://localhost:8080/"
        },
        "id": "JD_UYtvD7efV",
        "outputId": "4989f1e0-f1c2-42d3-d097-8bd4bf732e8a"
      },
      "id": "JD_UYtvD7efV",
      "execution_count": null,
      "outputs": [
        {
          "output_type": "execute_result",
          "data": {
            "text/plain": [
              "8"
            ]
          },
          "metadata": {},
          "execution_count": 47
        }
      ]
    },
    {
      "cell_type": "code",
      "source": [
        "for key,value in info.items():\n",
        "  print(\"Key:{} -- Value:{}\".format(info[key],value))"
      ],
      "metadata": {
        "colab": {
          "base_uri": "https://localhost:8080/"
        },
        "id": "moXlHQrG7mRQ",
        "outputId": "a72d83d3-e3fb-4204-85cc-33b5c8aa0d6b"
      },
      "id": "moXlHQrG7mRQ",
      "execution_count": null,
      "outputs": [
        {
          "output_type": "stream",
          "name": "stdout",
          "text": [
            "Key:True -- Value:True\n",
            "Key:True -- Value:True\n",
            "Key:True -- Value:True\n"
          ]
        }
      ]
    },
    {
      "cell_type": "code",
      "execution_count": null,
      "id": "0fe2b251-e9b5-4ae0-a1f8-33a316f7fba8",
      "metadata": {
        "tags": [],
        "id": "0fe2b251-e9b5-4ae0-a1f8-33a316f7fba8",
        "colab": {
          "base_uri": "https://localhost:8080/",
          "height": 36
        },
        "outputId": "9cf12dcb-640f-43d6-d6ff-f7a0fb6230b6"
      },
      "outputs": [
        {
          "output_type": "execute_result",
          "data": {
            "text/plain": [
              "'import numpy as np\\nfrom tensorflow.keras.models import Sequential\\nfrom tensorflow.keras.layers import Dense, Flatten\\nfrom tensorflow.keras.optimizers.legacy import Adam'"
            ],
            "application/vnd.google.colaboratory.intrinsic+json": {
              "type": "string"
            }
          },
          "metadata": {},
          "execution_count": 436
        }
      ],
      "source": [
        "'''import numpy as np\n",
        "from tensorflow.keras.models import Sequential\n",
        "from tensorflow.keras.layers import Dense, Flatten\n",
        "from tensorflow.keras.optimizers.legacy import Adam'''"
      ]
    },
    {
      "cell_type": "code",
      "source": [
        "env.observation_space.sample()"
      ],
      "metadata": {
        "colab": {
          "base_uri": "https://localhost:8080/"
        },
        "id": "6CoeA3L42B8P",
        "outputId": "f2f44033-9080-4090-c893-023c5f9d8ab1"
      },
      "id": "6CoeA3L42B8P",
      "execution_count": null,
      "outputs": [
        {
          "output_type": "execute_result",
          "data": {
            "text/plain": [
              "array([49.217445], dtype=float32)"
            ]
          },
          "metadata": {},
          "execution_count": 119
        }
      ]
    },
    {
      "cell_type": "code",
      "source": [
        "env.action_space.sample()"
      ],
      "metadata": {
        "colab": {
          "base_uri": "https://localhost:8080/"
        },
        "id": "zkbD8CFSGD4d",
        "outputId": "cd8b7261-fc75-4c3f-c810-6a6a040cb5cb"
      },
      "id": "zkbD8CFSGD4d",
      "execution_count": null,
      "outputs": [
        {
          "output_type": "execute_result",
          "data": {
            "text/plain": [
              "3"
            ]
          },
          "metadata": {},
          "execution_count": 120
        }
      ]
    },
    {
      "cell_type": "code",
      "execution_count": null,
      "id": "6aef58a7-3749-4a93-a56c-e3b90667af1d",
      "metadata": {
        "tags": [],
        "id": "6aef58a7-3749-4a93-a56c-e3b90667af1d"
      },
      "outputs": [],
      "source": [
        "states = env.observation_space.shape\n",
        "actions = env.action_space.n"
      ]
    },
    {
      "cell_type": "code",
      "source": [
        "env.observation_space"
      ],
      "metadata": {
        "colab": {
          "base_uri": "https://localhost:8080/"
        },
        "id": "ktfSUvnCbqtW",
        "outputId": "1638edf2-c851-4600-ff3e-5e9b5a31ed7e"
      },
      "id": "ktfSUvnCbqtW",
      "execution_count": null,
      "outputs": [
        {
          "output_type": "execute_result",
          "data": {
            "text/plain": [
              "Box(0.0, 50.0, (1,), float32)"
            ]
          },
          "metadata": {},
          "execution_count": 136
        }
      ]
    },
    {
      "cell_type": "code",
      "source": [
        "states"
      ],
      "metadata": {
        "colab": {
          "base_uri": "https://localhost:8080/"
        },
        "id": "F2wGeU6R_nGe",
        "outputId": "965a1723-a141-4552-fa1d-7cb9ef6f1d60"
      },
      "id": "F2wGeU6R_nGe",
      "execution_count": null,
      "outputs": [
        {
          "output_type": "execute_result",
          "data": {
            "text/plain": [
              "(1,)"
            ]
          },
          "metadata": {},
          "execution_count": 137
        }
      ]
    },
    {
      "cell_type": "code",
      "source": [
        "actions"
      ],
      "metadata": {
        "colab": {
          "base_uri": "https://localhost:8080/"
        },
        "id": "kIHPNy5b_WgU",
        "outputId": "6e7c2689-620b-443e-ef63-ffc3d4cdf1b2"
      },
      "id": "kIHPNy5b_WgU",
      "execution_count": null,
      "outputs": [
        {
          "output_type": "execute_result",
          "data": {
            "text/plain": [
              "5"
            ]
          },
          "metadata": {},
          "execution_count": 138
        }
      ]
    },
    {
      "cell_type": "code",
      "execution_count": null,
      "id": "7ad11835-a1cd-4760-b5dd-9a0e445d7262",
      "metadata": {
        "tags": [],
        "id": "7ad11835-a1cd-4760-b5dd-9a0e445d7262"
      },
      "outputs": [],
      "source": [
        "def build_model(states, actions):\n",
        "    model = Sequential()\n",
        "    model.add(Flatten(input_shape=(1,30)))\n",
        "    model.add(Dense(24, activation='relu'))\n",
        "    model.add(Dense(24, activation='relu'))\n",
        "    model.add(Dense(actions, activation='linear'))\n",
        "    return model"
      ]
    },
    {
      "cell_type": "code",
      "execution_count": null,
      "id": "0e9c1e46-e348-4f43-9bb9-8f537a06ed45",
      "metadata": {
        "tags": [],
        "id": "0e9c1e46-e348-4f43-9bb9-8f537a06ed45"
      },
      "outputs": [],
      "source": [
        "del model"
      ]
    },
    {
      "cell_type": "code",
      "execution_count": null,
      "id": "cf7cec0c-7510-44b8-8b3f-fe693a6d6357",
      "metadata": {
        "tags": [],
        "id": "cf7cec0c-7510-44b8-8b3f-fe693a6d6357"
      },
      "outputs": [],
      "source": [
        "model = build_model(states, actions)"
      ]
    },
    {
      "cell_type": "code",
      "execution_count": null,
      "id": "8ff45997-a13a-41b6-9117-5d9efa350438",
      "metadata": {
        "tags": [],
        "colab": {
          "base_uri": "https://localhost:8080/"
        },
        "id": "8ff45997-a13a-41b6-9117-5d9efa350438",
        "outputId": "21d4974b-c0e8-4d1f-e3ce-e865f961ab16"
      },
      "outputs": [
        {
          "output_type": "stream",
          "name": "stdout",
          "text": [
            "Model: \"sequential_7\"\n",
            "_________________________________________________________________\n",
            " Layer (type)                Output Shape              Param #   \n",
            "=================================================================\n",
            " flatten_7 (Flatten)         (None, 30)                0         \n",
            "                                                                 \n",
            " dense_21 (Dense)            (None, 24)                744       \n",
            "                                                                 \n",
            " dense_22 (Dense)            (None, 24)                600       \n",
            "                                                                 \n",
            " dense_23 (Dense)            (None, 5)                 125       \n",
            "                                                                 \n",
            "=================================================================\n",
            "Total params: 1469 (5.74 KB)\n",
            "Trainable params: 1469 (5.74 KB)\n",
            "Non-trainable params: 0 (0.00 Byte)\n",
            "_________________________________________________________________\n"
          ]
        }
      ],
      "source": [
        "model.summary()"
      ]
    },
    {
      "cell_type": "code",
      "execution_count": null,
      "id": "74fd38ef-746f-42c5-bc17-50ba9f907fee",
      "metadata": {
        "tags": [],
        "id": "74fd38ef-746f-42c5-bc17-50ba9f907fee",
        "colab": {
          "base_uri": "https://localhost:8080/",
          "height": 36
        },
        "outputId": "eb2462b4-2fe4-4525-a9ff-3f2cd7dce8a8"
      },
      "outputs": [
        {
          "output_type": "execute_result",
          "data": {
            "text/plain": [
              "'import tensorflow as tf\\n\\nfrom keras import __version__\\n\\ntf.keras.__version__ = __version__'"
            ],
            "application/vnd.google.colaboratory.intrinsic+json": {
              "type": "string"
            }
          },
          "metadata": {},
          "execution_count": 84
        }
      ],
      "source": [
        "'''import tensorflow as tf\n",
        "\n",
        "from keras import __version__\n",
        "\n",
        "tf.keras.__version__ = __version__'''"
      ]
    },
    {
      "cell_type": "code",
      "execution_count": null,
      "id": "aab0d11d-124b-4f84-a90e-289e296d5fb4",
      "metadata": {
        "tags": [],
        "id": "aab0d11d-124b-4f84-a90e-289e296d5fb4",
        "colab": {
          "base_uri": "https://localhost:8080/",
          "height": 36
        },
        "outputId": "33f1825f-9c59-4055-c57a-dde29b272783"
      },
      "outputs": [
        {
          "output_type": "execute_result",
          "data": {
            "text/plain": [
              "'from rl.agents.dqn import DQNAgent\\nfrom rl.policy import BoltzmannQPolicy\\nfrom rl.memory import SequentialMemory'"
            ],
            "application/vnd.google.colaboratory.intrinsic+json": {
              "type": "string"
            }
          },
          "metadata": {},
          "execution_count": 85
        }
      ],
      "source": [
        "'''from rl.agents.dqn import DQNAgent\n",
        "from rl.policy import BoltzmannQPolicy\n",
        "from rl.memory import SequentialMemory'''"
      ]
    },
    {
      "cell_type": "code",
      "source": [
        "def build_agent(model, actions):\n",
        "    policy = BoltzmannQPolicy()\n",
        "    memory = SequentialMemory(limit=50000, window_length=1)\n",
        "    dqn = DQNAgent(model=model, memory=memory, policy=policy,\n",
        "                  nb_actions=actions, nb_steps_warmup=10, target_model_update=1e-2)\n",
        "    return dqn"
      ],
      "metadata": {
        "id": "9OG4X5CpAui-"
      },
      "id": "9OG4X5CpAui-",
      "execution_count": null,
      "outputs": []
    },
    {
      "cell_type": "code",
      "source": [
        "import tensorflow.python.util.deprecation as deprecation\n",
        "deprecation._PRINT_DEPRECATION_WARNINGS = False"
      ],
      "metadata": {
        "id": "AsogvtpnAwTX"
      },
      "id": "AsogvtpnAwTX",
      "execution_count": null,
      "outputs": []
    },
    {
      "cell_type": "code",
      "source": [
        "dqn = build_agent(model, actions)\n",
        "dqn.compile(Adam(learning_rate=1e-3), metrics=['mae'])"
      ],
      "metadata": {
        "id": "2_7vljF-A1MH"
      },
      "id": "2_7vljF-A1MH",
      "execution_count": null,
      "outputs": []
    },
    {
      "cell_type": "code",
      "source": [
        "import tensorflow.python.util.deprecation as deprecation\n",
        "deprecation._PRINT_DEPRECATION_WARNINGS = False\n",
        "dqn.fit(env, nb_steps=100000, visualize=False, verbose=1)"
      ],
      "metadata": {
        "colab": {
          "base_uri": "https://localhost:8080/"
        },
        "id": "i0sGEH5KpDGi",
        "outputId": "6e5f45c2-4353-40e1-9acf-b3001ca86c2b"
      },
      "id": "i0sGEH5KpDGi",
      "execution_count": null,
      "outputs": [
        {
          "output_type": "stream",
          "name": "stdout",
          "text": [
            "Training for 100000 steps ...\n",
            "Interval 1 (0 steps performed)\n",
            "  155/10000 [..............................] - ETA: 4:21 - reward: 1.0000"
          ]
        },
        {
          "output_type": "stream",
          "name": "stderr",
          "text": [
            "<ipython-input-133-042634041d88>:3: RuntimeWarning: invalid value encountered in double_scalars\n",
            "  value = TMS_Value*((0.14)/(x**0.02-1))\n"
          ]
        },
        {
          "output_type": "stream",
          "name": "stdout",
          "text": [
            "10000/10000 [==============================] - 130s 13ms/step - reward: 0.2558\n",
            "47 episodes - episode_reward: 55.915 [-153.000, 255.000] - loss: 3.021 - mae: 23.609 - mean_q: 29.675 - dt: -0.479 - TMS: 0.706 - x_rl2: 1.000\n",
            "\n",
            "Interval 2 (10000 steps performed)\n",
            "10000/10000 [==============================] - 129s 13ms/step - reward: 0.3018\n",
            "48 episodes - episode_reward: 60.417 [-158.000, 222.000] - loss: 3.203 - mae: 25.649 - mean_q: 32.212 - dt: -6.145 - TMS: 0.713 - x_rl2: 1.000\n",
            "\n",
            "Interval 3 (20000 steps performed)\n",
            "10000/10000 [==============================] - 128s 13ms/step - reward: 0.1524\n",
            "45 episodes - episode_reward: 32.956 [-198.000, 225.000] - loss: 3.323 - mae: 26.708 - mean_q: 33.537 - dt: 0.104 - TMS: 0.631 - x_rl2: 1.000\n",
            "\n",
            "Interval 4 (30000 steps performed)\n",
            "10000/10000 [==============================] - 128s 13ms/step - reward: 0.1398\n",
            "46 episodes - episode_reward: 32.065 [-180.000, 248.000] - loss: 3.080 - mae: 25.899 - mean_q: 32.531 - dt: -0.785 - TMS: 0.682 - x_rl2: 1.000\n",
            "\n",
            "Interval 5 (40000 steps performed)\n",
            "10000/10000 [==============================] - 129s 13ms/step - reward: 0.1586\n",
            "47 episodes - episode_reward: 33.553 [-214.000, 220.000] - loss: 2.624 - mae: 24.408 - mean_q: 30.617 - dt: -4.769 - TMS: 0.689 - x_rl2: 1.000\n",
            "\n",
            "Interval 6 (50000 steps performed)\n",
            "10000/10000 [==============================] - 130s 13ms/step - reward: 0.3834\n",
            "50 episodes - episode_reward: 76.080 [-118.000, 209.000] - loss: 2.239 - mae: 21.735 - mean_q: 27.232 - dt: -0.580 - TMS: 0.699 - x_rl2: 1.000\n",
            "\n",
            "Interval 7 (60000 steps performed)\n",
            "10000/10000 [==============================] - 128s 13ms/step - reward: 0.2514\n",
            "49 episodes - episode_reward: 51.245 [-190.000, 204.000] - loss: 2.338 - mae: 21.932 - mean_q: 27.516 - dt: -0.585 - TMS: 0.710 - x_rl2: 1.000\n",
            "\n",
            "Interval 8 (70000 steps performed)\n",
            "10000/10000 [==============================] - 128s 13ms/step - reward: 0.1930\n",
            "49 episodes - episode_reward: 39.776 [-249.000, 205.000] - loss: 2.426 - mae: 22.122 - mean_q: 27.758 - dt: -0.860 - TMS: 0.645 - x_rl2: 1.000\n",
            "\n",
            "Interval 9 (80000 steps performed)\n",
            "10000/10000 [==============================] - 129s 13ms/step - reward: 0.2548\n",
            "48 episodes - episode_reward: 53.708 [-156.000, 235.000] - loss: 2.559 - mae: 22.801 - mean_q: 28.635 - dt: 0.091 - TMS: 0.691 - x_rl2: 1.000\n",
            "\n",
            "Interval 10 (90000 steps performed)\n",
            "10000/10000 [==============================] - 128s 13ms/step - reward: 0.2532\n",
            "done, took 1287.924 seconds\n"
          ]
        },
        {
          "output_type": "execute_result",
          "data": {
            "text/plain": [
              "<keras.src.callbacks.History at 0x7f53f5055a20>"
            ]
          },
          "metadata": {},
          "execution_count": 149
        }
      ]
    },
    {
      "cell_type": "code",
      "execution_count": null,
      "id": "742ccc85-8c87-489c-ad57-e473e8fce121",
      "metadata": {
        "tags": [],
        "colab": {
          "base_uri": "https://localhost:8080/",
          "height": 369
        },
        "id": "742ccc85-8c87-489c-ad57-e473e8fce121",
        "outputId": "ff47a3fc-8c26-46bf-f39c-eda783ad0efd"
      },
      "outputs": [
        {
          "output_type": "stream",
          "name": "stdout",
          "text": [
            "Testing for 100 episodes ...\n"
          ]
        },
        {
          "output_type": "error",
          "ename": "KeyboardInterrupt",
          "evalue": "ignored",
          "traceback": [
            "\u001b[0;31m---------------------------------------------------------------------------\u001b[0m",
            "\u001b[0;31mKeyboardInterrupt\u001b[0m                         Traceback (most recent call last)",
            "\u001b[0;32m<ipython-input-148-2331bfdbc6f4>\u001b[0m in \u001b[0;36m<cell line: 1>\u001b[0;34m()\u001b[0m\n\u001b[0;32m----> 1\u001b[0;31m \u001b[0mscores\u001b[0m \u001b[0;34m=\u001b[0m \u001b[0mdqn\u001b[0m\u001b[0;34m.\u001b[0m\u001b[0mtest\u001b[0m\u001b[0;34m(\u001b[0m\u001b[0menv\u001b[0m\u001b[0;34m,\u001b[0m \u001b[0mnb_episodes\u001b[0m\u001b[0;34m=\u001b[0m\u001b[0;36m100\u001b[0m\u001b[0;34m,\u001b[0m \u001b[0mvisualize\u001b[0m\u001b[0;34m=\u001b[0m\u001b[0;32mFalse\u001b[0m\u001b[0;34m)\u001b[0m\u001b[0;34m\u001b[0m\u001b[0;34m\u001b[0m\u001b[0m\n\u001b[0m\u001b[1;32m      2\u001b[0m \u001b[0mprint\u001b[0m\u001b[0;34m(\u001b[0m\u001b[0mnp\u001b[0m\u001b[0;34m.\u001b[0m\u001b[0mmean\u001b[0m\u001b[0;34m(\u001b[0m\u001b[0mscores\u001b[0m\u001b[0;34m.\u001b[0m\u001b[0mhistory\u001b[0m\u001b[0;34m[\u001b[0m\u001b[0;34m'episode_reward'\u001b[0m\u001b[0;34m]\u001b[0m\u001b[0;34m)\u001b[0m\u001b[0;34m)\u001b[0m\u001b[0;34m\u001b[0m\u001b[0;34m\u001b[0m\u001b[0m\n",
            "\u001b[0;32m/usr/local/lib/python3.10/dist-packages/rl/core.py\u001b[0m in \u001b[0;36mtest\u001b[0;34m(self, env, nb_episodes, action_repetition, callbacks, visualize, nb_max_episode_steps, nb_max_start_steps, start_step_policy, verbose)\u001b[0m\n\u001b[1;32m    339\u001b[0m                 \u001b[0mcallbacks\u001b[0m\u001b[0;34m.\u001b[0m\u001b[0mon_step_begin\u001b[0m\u001b[0;34m(\u001b[0m\u001b[0mepisode_step\u001b[0m\u001b[0;34m)\u001b[0m\u001b[0;34m\u001b[0m\u001b[0;34m\u001b[0m\u001b[0m\n\u001b[1;32m    340\u001b[0m \u001b[0;34m\u001b[0m\u001b[0m\n\u001b[0;32m--> 341\u001b[0;31m                 \u001b[0maction\u001b[0m \u001b[0;34m=\u001b[0m \u001b[0mself\u001b[0m\u001b[0;34m.\u001b[0m\u001b[0mforward\u001b[0m\u001b[0;34m(\u001b[0m\u001b[0mobservation\u001b[0m\u001b[0;34m)\u001b[0m\u001b[0;34m\u001b[0m\u001b[0;34m\u001b[0m\u001b[0m\n\u001b[0m\u001b[1;32m    342\u001b[0m                 \u001b[0;32mif\u001b[0m \u001b[0mself\u001b[0m\u001b[0;34m.\u001b[0m\u001b[0mprocessor\u001b[0m \u001b[0;32mis\u001b[0m \u001b[0;32mnot\u001b[0m \u001b[0;32mNone\u001b[0m\u001b[0;34m:\u001b[0m\u001b[0;34m\u001b[0m\u001b[0;34m\u001b[0m\u001b[0m\n\u001b[1;32m    343\u001b[0m                     \u001b[0maction\u001b[0m \u001b[0;34m=\u001b[0m \u001b[0mself\u001b[0m\u001b[0;34m.\u001b[0m\u001b[0mprocessor\u001b[0m\u001b[0;34m.\u001b[0m\u001b[0mprocess_action\u001b[0m\u001b[0;34m(\u001b[0m\u001b[0maction\u001b[0m\u001b[0;34m)\u001b[0m\u001b[0;34m\u001b[0m\u001b[0;34m\u001b[0m\u001b[0m\n",
            "\u001b[0;32m/usr/local/lib/python3.10/dist-packages/rl/agents/dqn.py\u001b[0m in \u001b[0;36mforward\u001b[0;34m(self, observation)\u001b[0m\n\u001b[1;32m    222\u001b[0m         \u001b[0;31m# Select an action.\u001b[0m\u001b[0;34m\u001b[0m\u001b[0;34m\u001b[0m\u001b[0m\n\u001b[1;32m    223\u001b[0m         \u001b[0mstate\u001b[0m \u001b[0;34m=\u001b[0m \u001b[0mself\u001b[0m\u001b[0;34m.\u001b[0m\u001b[0mmemory\u001b[0m\u001b[0;34m.\u001b[0m\u001b[0mget_recent_state\u001b[0m\u001b[0;34m(\u001b[0m\u001b[0mobservation\u001b[0m\u001b[0;34m)\u001b[0m\u001b[0;34m\u001b[0m\u001b[0;34m\u001b[0m\u001b[0m\n\u001b[0;32m--> 224\u001b[0;31m         \u001b[0mq_values\u001b[0m \u001b[0;34m=\u001b[0m \u001b[0mself\u001b[0m\u001b[0;34m.\u001b[0m\u001b[0mcompute_q_values\u001b[0m\u001b[0;34m(\u001b[0m\u001b[0mstate\u001b[0m\u001b[0;34m)\u001b[0m\u001b[0;34m\u001b[0m\u001b[0;34m\u001b[0m\u001b[0m\n\u001b[0m\u001b[1;32m    225\u001b[0m         \u001b[0;32mif\u001b[0m \u001b[0mself\u001b[0m\u001b[0;34m.\u001b[0m\u001b[0mtraining\u001b[0m\u001b[0;34m:\u001b[0m\u001b[0;34m\u001b[0m\u001b[0;34m\u001b[0m\u001b[0m\n\u001b[1;32m    226\u001b[0m             \u001b[0maction\u001b[0m \u001b[0;34m=\u001b[0m \u001b[0mself\u001b[0m\u001b[0;34m.\u001b[0m\u001b[0mpolicy\u001b[0m\u001b[0;34m.\u001b[0m\u001b[0mselect_action\u001b[0m\u001b[0;34m(\u001b[0m\u001b[0mq_values\u001b[0m\u001b[0;34m=\u001b[0m\u001b[0mq_values\u001b[0m\u001b[0;34m)\u001b[0m\u001b[0;34m\u001b[0m\u001b[0;34m\u001b[0m\u001b[0m\n",
            "\u001b[0;32m/usr/local/lib/python3.10/dist-packages/rl/agents/dqn.py\u001b[0m in \u001b[0;36mcompute_q_values\u001b[0;34m(self, state)\u001b[0m\n\u001b[1;32m     66\u001b[0m \u001b[0;34m\u001b[0m\u001b[0m\n\u001b[1;32m     67\u001b[0m     \u001b[0;32mdef\u001b[0m \u001b[0mcompute_q_values\u001b[0m\u001b[0;34m(\u001b[0m\u001b[0mself\u001b[0m\u001b[0;34m,\u001b[0m \u001b[0mstate\u001b[0m\u001b[0;34m)\u001b[0m\u001b[0;34m:\u001b[0m\u001b[0;34m\u001b[0m\u001b[0;34m\u001b[0m\u001b[0m\n\u001b[0;32m---> 68\u001b[0;31m         \u001b[0mq_values\u001b[0m \u001b[0;34m=\u001b[0m \u001b[0mself\u001b[0m\u001b[0;34m.\u001b[0m\u001b[0mcompute_batch_q_values\u001b[0m\u001b[0;34m(\u001b[0m\u001b[0;34m[\u001b[0m\u001b[0mstate\u001b[0m\u001b[0;34m]\u001b[0m\u001b[0;34m)\u001b[0m\u001b[0;34m.\u001b[0m\u001b[0mflatten\u001b[0m\u001b[0;34m(\u001b[0m\u001b[0;34m)\u001b[0m\u001b[0;34m\u001b[0m\u001b[0;34m\u001b[0m\u001b[0m\n\u001b[0m\u001b[1;32m     69\u001b[0m         \u001b[0;32massert\u001b[0m \u001b[0mq_values\u001b[0m\u001b[0;34m.\u001b[0m\u001b[0mshape\u001b[0m \u001b[0;34m==\u001b[0m \u001b[0;34m(\u001b[0m\u001b[0mself\u001b[0m\u001b[0;34m.\u001b[0m\u001b[0mnb_actions\u001b[0m\u001b[0;34m,\u001b[0m\u001b[0;34m)\u001b[0m\u001b[0;34m\u001b[0m\u001b[0;34m\u001b[0m\u001b[0m\n\u001b[1;32m     70\u001b[0m         \u001b[0;32mreturn\u001b[0m \u001b[0mq_values\u001b[0m\u001b[0;34m\u001b[0m\u001b[0;34m\u001b[0m\u001b[0m\n",
            "\u001b[0;32m/usr/local/lib/python3.10/dist-packages/rl/agents/dqn.py\u001b[0m in \u001b[0;36mcompute_batch_q_values\u001b[0;34m(self, state_batch)\u001b[0m\n\u001b[1;32m     61\u001b[0m     \u001b[0;32mdef\u001b[0m \u001b[0mcompute_batch_q_values\u001b[0m\u001b[0;34m(\u001b[0m\u001b[0mself\u001b[0m\u001b[0;34m,\u001b[0m \u001b[0mstate_batch\u001b[0m\u001b[0;34m)\u001b[0m\u001b[0;34m:\u001b[0m\u001b[0;34m\u001b[0m\u001b[0;34m\u001b[0m\u001b[0m\n\u001b[1;32m     62\u001b[0m         \u001b[0mbatch\u001b[0m \u001b[0;34m=\u001b[0m \u001b[0mself\u001b[0m\u001b[0;34m.\u001b[0m\u001b[0mprocess_state_batch\u001b[0m\u001b[0;34m(\u001b[0m\u001b[0mstate_batch\u001b[0m\u001b[0;34m)\u001b[0m\u001b[0;34m\u001b[0m\u001b[0;34m\u001b[0m\u001b[0m\n\u001b[0;32m---> 63\u001b[0;31m         \u001b[0mq_values\u001b[0m \u001b[0;34m=\u001b[0m \u001b[0mself\u001b[0m\u001b[0;34m.\u001b[0m\u001b[0mmodel\u001b[0m\u001b[0;34m.\u001b[0m\u001b[0mpredict_on_batch\u001b[0m\u001b[0;34m(\u001b[0m\u001b[0mbatch\u001b[0m\u001b[0;34m)\u001b[0m\u001b[0;34m\u001b[0m\u001b[0;34m\u001b[0m\u001b[0m\n\u001b[0m\u001b[1;32m     64\u001b[0m         \u001b[0;32massert\u001b[0m \u001b[0mq_values\u001b[0m\u001b[0;34m.\u001b[0m\u001b[0mshape\u001b[0m \u001b[0;34m==\u001b[0m \u001b[0;34m(\u001b[0m\u001b[0mlen\u001b[0m\u001b[0;34m(\u001b[0m\u001b[0mstate_batch\u001b[0m\u001b[0;34m)\u001b[0m\u001b[0;34m,\u001b[0m \u001b[0mself\u001b[0m\u001b[0;34m.\u001b[0m\u001b[0mnb_actions\u001b[0m\u001b[0;34m)\u001b[0m\u001b[0;34m\u001b[0m\u001b[0;34m\u001b[0m\u001b[0m\n\u001b[1;32m     65\u001b[0m         \u001b[0;32mreturn\u001b[0m \u001b[0mq_values\u001b[0m\u001b[0;34m\u001b[0m\u001b[0;34m\u001b[0m\u001b[0m\n",
            "\u001b[0;32m/usr/local/lib/python3.10/dist-packages/keras/src/engine/training_v1.py\u001b[0m in \u001b[0;36mpredict_on_batch\u001b[0;34m(self, x)\u001b[0m\n\u001b[1;32m   1319\u001b[0m \u001b[0;34m\u001b[0m\u001b[0m\n\u001b[1;32m   1320\u001b[0m         \u001b[0mself\u001b[0m\u001b[0;34m.\u001b[0m\u001b[0m_make_predict_function\u001b[0m\u001b[0;34m(\u001b[0m\u001b[0;34m)\u001b[0m\u001b[0;34m\u001b[0m\u001b[0;34m\u001b[0m\u001b[0m\n\u001b[0;32m-> 1321\u001b[0;31m         \u001b[0moutputs\u001b[0m \u001b[0;34m=\u001b[0m \u001b[0mself\u001b[0m\u001b[0;34m.\u001b[0m\u001b[0mpredict_function\u001b[0m\u001b[0;34m(\u001b[0m\u001b[0minputs\u001b[0m\u001b[0;34m)\u001b[0m\u001b[0;34m\u001b[0m\u001b[0;34m\u001b[0m\u001b[0m\n\u001b[0m\u001b[1;32m   1322\u001b[0m \u001b[0;34m\u001b[0m\u001b[0m\n\u001b[1;32m   1323\u001b[0m         \u001b[0;32mif\u001b[0m \u001b[0mlen\u001b[0m\u001b[0;34m(\u001b[0m\u001b[0moutputs\u001b[0m\u001b[0;34m)\u001b[0m \u001b[0;34m==\u001b[0m \u001b[0;36m1\u001b[0m\u001b[0;34m:\u001b[0m\u001b[0;34m\u001b[0m\u001b[0;34m\u001b[0m\u001b[0m\n",
            "\u001b[0;32m/usr/local/lib/python3.10/dist-packages/keras/src/backend.py\u001b[0m in \u001b[0;36m__call__\u001b[0;34m(self, inputs)\u001b[0m\n\u001b[1;32m   4620\u001b[0m         \u001b[0;31m# SparseTensor, then this ensures that we return its value as a\u001b[0m\u001b[0;34m\u001b[0m\u001b[0;34m\u001b[0m\u001b[0m\n\u001b[1;32m   4621\u001b[0m         \u001b[0;31m# SparseTensorValue rather than a SparseTensor.\u001b[0m\u001b[0;34m\u001b[0m\u001b[0;34m\u001b[0m\u001b[0m\n\u001b[0;32m-> 4622\u001b[0;31m         \u001b[0;32mreturn\u001b[0m \u001b[0mtf\u001b[0m\u001b[0;34m.\u001b[0m\u001b[0mnest\u001b[0m\u001b[0;34m.\u001b[0m\u001b[0mmap_structure\u001b[0m\u001b[0;34m(\u001b[0m\u001b[0mself\u001b[0m\u001b[0;34m.\u001b[0m\u001b[0m_eval_if_composite\u001b[0m\u001b[0;34m,\u001b[0m \u001b[0moutput_structure\u001b[0m\u001b[0;34m)\u001b[0m\u001b[0;34m\u001b[0m\u001b[0;34m\u001b[0m\u001b[0m\n\u001b[0m\u001b[1;32m   4623\u001b[0m \u001b[0;34m\u001b[0m\u001b[0m\n\u001b[1;32m   4624\u001b[0m \u001b[0;34m\u001b[0m\u001b[0m\n",
            "\u001b[0;32m/usr/local/lib/python3.10/dist-packages/tensorflow/python/util/nest.py\u001b[0m in \u001b[0;36mmap_structure\u001b[0;34m(func, *structure, **kwargs)\u001b[0m\n\u001b[1;32m    627\u001b[0m     \u001b[0mValueError\u001b[0m\u001b[0;34m:\u001b[0m \u001b[0mIf\u001b[0m \u001b[0mwrong\u001b[0m \u001b[0mkeyword\u001b[0m \u001b[0marguments\u001b[0m \u001b[0mare\u001b[0m \u001b[0mprovided\u001b[0m\u001b[0;34m.\u001b[0m\u001b[0;34m\u001b[0m\u001b[0;34m\u001b[0m\u001b[0m\n\u001b[1;32m    628\u001b[0m   \"\"\"\n\u001b[0;32m--> 629\u001b[0;31m   return nest_util.map_structure(\n\u001b[0m\u001b[1;32m    630\u001b[0m       \u001b[0mnest_util\u001b[0m\u001b[0;34m.\u001b[0m\u001b[0mModality\u001b[0m\u001b[0;34m.\u001b[0m\u001b[0mCORE\u001b[0m\u001b[0;34m,\u001b[0m \u001b[0mfunc\u001b[0m\u001b[0;34m,\u001b[0m \u001b[0;34m*\u001b[0m\u001b[0mstructure\u001b[0m\u001b[0;34m,\u001b[0m \u001b[0;34m**\u001b[0m\u001b[0mkwargs\u001b[0m\u001b[0;34m\u001b[0m\u001b[0;34m\u001b[0m\u001b[0m\n\u001b[1;32m    631\u001b[0m   )\n",
            "\u001b[0;32m/usr/local/lib/python3.10/dist-packages/tensorflow/python/util/nest_util.py\u001b[0m in \u001b[0;36mmap_structure\u001b[0;34m(modality, func, *structure, **kwargs)\u001b[0m\n\u001b[1;32m   1166\u001b[0m   \"\"\"\n\u001b[1;32m   1167\u001b[0m   \u001b[0;32mif\u001b[0m \u001b[0mmodality\u001b[0m \u001b[0;34m==\u001b[0m \u001b[0mModality\u001b[0m\u001b[0;34m.\u001b[0m\u001b[0mCORE\u001b[0m\u001b[0;34m:\u001b[0m\u001b[0;34m\u001b[0m\u001b[0;34m\u001b[0m\u001b[0m\n\u001b[0;32m-> 1168\u001b[0;31m     \u001b[0;32mreturn\u001b[0m \u001b[0m_tf_core_map_structure\u001b[0m\u001b[0;34m(\u001b[0m\u001b[0mfunc\u001b[0m\u001b[0;34m,\u001b[0m \u001b[0;34m*\u001b[0m\u001b[0mstructure\u001b[0m\u001b[0;34m,\u001b[0m \u001b[0;34m**\u001b[0m\u001b[0mkwargs\u001b[0m\u001b[0;34m)\u001b[0m\u001b[0;34m\u001b[0m\u001b[0;34m\u001b[0m\u001b[0m\n\u001b[0m\u001b[1;32m   1169\u001b[0m   \u001b[0;32melif\u001b[0m \u001b[0mmodality\u001b[0m \u001b[0;34m==\u001b[0m \u001b[0mModality\u001b[0m\u001b[0;34m.\u001b[0m\u001b[0mDATA\u001b[0m\u001b[0;34m:\u001b[0m\u001b[0;34m\u001b[0m\u001b[0;34m\u001b[0m\u001b[0m\n\u001b[1;32m   1170\u001b[0m     \u001b[0;32mreturn\u001b[0m \u001b[0m_tf_data_map_structure\u001b[0m\u001b[0;34m(\u001b[0m\u001b[0mfunc\u001b[0m\u001b[0;34m,\u001b[0m \u001b[0;34m*\u001b[0m\u001b[0mstructure\u001b[0m\u001b[0;34m,\u001b[0m \u001b[0;34m**\u001b[0m\u001b[0mkwargs\u001b[0m\u001b[0;34m)\u001b[0m\u001b[0;34m\u001b[0m\u001b[0;34m\u001b[0m\u001b[0m\n",
            "\u001b[0;32m/usr/local/lib/python3.10/dist-packages/tensorflow/python/util/nest_util.py\u001b[0m in \u001b[0;36m_tf_core_map_structure\u001b[0;34m(func, *structure, **kwargs)\u001b[0m\n\u001b[1;32m   1202\u001b[0m \u001b[0;34m\u001b[0m\u001b[0m\n\u001b[1;32m   1203\u001b[0m   \u001b[0mflat_structure\u001b[0m \u001b[0;34m=\u001b[0m \u001b[0;34m(\u001b[0m\u001b[0m_tf_core_flatten\u001b[0m\u001b[0;34m(\u001b[0m\u001b[0ms\u001b[0m\u001b[0;34m,\u001b[0m \u001b[0mexpand_composites\u001b[0m\u001b[0;34m)\u001b[0m \u001b[0;32mfor\u001b[0m \u001b[0ms\u001b[0m \u001b[0;32min\u001b[0m \u001b[0mstructure\u001b[0m\u001b[0;34m)\u001b[0m\u001b[0;34m\u001b[0m\u001b[0;34m\u001b[0m\u001b[0m\n\u001b[0;32m-> 1204\u001b[0;31m   \u001b[0mentries\u001b[0m \u001b[0;34m=\u001b[0m \u001b[0mzip\u001b[0m\u001b[0;34m(\u001b[0m\u001b[0;34m*\u001b[0m\u001b[0mflat_structure\u001b[0m\u001b[0;34m)\u001b[0m\u001b[0;34m\u001b[0m\u001b[0;34m\u001b[0m\u001b[0m\n\u001b[0m\u001b[1;32m   1205\u001b[0m \u001b[0;34m\u001b[0m\u001b[0m\n\u001b[1;32m   1206\u001b[0m   return _tf_core_pack_sequence_as(\n",
            "\u001b[0;32m/usr/local/lib/python3.10/dist-packages/tensorflow/python/util/nest_util.py\u001b[0m in \u001b[0;36m<genexpr>\u001b[0;34m(.0)\u001b[0m\n\u001b[1;32m   1201\u001b[0m     )\n\u001b[1;32m   1202\u001b[0m \u001b[0;34m\u001b[0m\u001b[0m\n\u001b[0;32m-> 1203\u001b[0;31m   \u001b[0mflat_structure\u001b[0m \u001b[0;34m=\u001b[0m \u001b[0;34m(\u001b[0m\u001b[0m_tf_core_flatten\u001b[0m\u001b[0;34m(\u001b[0m\u001b[0ms\u001b[0m\u001b[0;34m,\u001b[0m \u001b[0mexpand_composites\u001b[0m\u001b[0;34m)\u001b[0m \u001b[0;32mfor\u001b[0m \u001b[0ms\u001b[0m \u001b[0;32min\u001b[0m \u001b[0mstructure\u001b[0m\u001b[0;34m)\u001b[0m\u001b[0;34m\u001b[0m\u001b[0;34m\u001b[0m\u001b[0m\n\u001b[0m\u001b[1;32m   1204\u001b[0m   \u001b[0mentries\u001b[0m \u001b[0;34m=\u001b[0m \u001b[0mzip\u001b[0m\u001b[0;34m(\u001b[0m\u001b[0;34m*\u001b[0m\u001b[0mflat_structure\u001b[0m\u001b[0;34m)\u001b[0m\u001b[0;34m\u001b[0m\u001b[0;34m\u001b[0m\u001b[0m\n\u001b[1;32m   1205\u001b[0m \u001b[0;34m\u001b[0m\u001b[0m\n",
            "\u001b[0;32m/usr/local/lib/python3.10/dist-packages/tensorflow/python/util/nest_util.py\u001b[0m in \u001b[0;36m_tf_core_flatten\u001b[0;34m(structure, expand_composites)\u001b[0m\n\u001b[1;32m    827\u001b[0m     \u001b[0;32mreturn\u001b[0m \u001b[0;34m[\u001b[0m\u001b[0;32mNone\u001b[0m\u001b[0;34m]\u001b[0m\u001b[0;34m\u001b[0m\u001b[0;34m\u001b[0m\u001b[0m\n\u001b[1;32m    828\u001b[0m   \u001b[0mexpand_composites\u001b[0m \u001b[0;34m=\u001b[0m \u001b[0mbool\u001b[0m\u001b[0;34m(\u001b[0m\u001b[0mexpand_composites\u001b[0m\u001b[0;34m)\u001b[0m\u001b[0;34m\u001b[0m\u001b[0;34m\u001b[0m\u001b[0m\n\u001b[0;32m--> 829\u001b[0;31m   \u001b[0;32mreturn\u001b[0m \u001b[0m_pywrap_utils\u001b[0m\u001b[0;34m.\u001b[0m\u001b[0mFlatten\u001b[0m\u001b[0;34m(\u001b[0m\u001b[0mstructure\u001b[0m\u001b[0;34m,\u001b[0m \u001b[0mexpand_composites\u001b[0m\u001b[0;34m)\u001b[0m\u001b[0;34m\u001b[0m\u001b[0;34m\u001b[0m\u001b[0m\n\u001b[0m\u001b[1;32m    830\u001b[0m \u001b[0;34m\u001b[0m\u001b[0m\n\u001b[1;32m    831\u001b[0m \u001b[0;34m\u001b[0m\u001b[0m\n",
            "\u001b[0;31mKeyboardInterrupt\u001b[0m: "
          ]
        }
      ],
      "source": [
        "scores = dqn.test(env, nb_episodes=100, visualize=False)\n",
        "print(np.mean(scores.history['episode_reward']))"
      ]
    },
    {
      "cell_type": "code",
      "source": [
        "import tensorflow.python.util.deprecation as deprecation\n",
        "deprecation._PRINT_DEPRECATION_WARNINGS = False"
      ],
      "metadata": {
        "id": "ZjjHxD3_KDkY"
      },
      "id": "ZjjHxD3_KDkY",
      "execution_count": null,
      "outputs": []
    },
    {
      "cell_type": "code",
      "source": [
        "dqn.test(env,visualize=False)"
      ],
      "metadata": {
        "colab": {
          "base_uri": "https://localhost:8080/",
          "height": 1000
        },
        "id": "55AZGGfmKEdx",
        "outputId": "b6aa812b-4cce-4345-a69a-523122cb4a77"
      },
      "id": "55AZGGfmKEdx",
      "execution_count": null,
      "outputs": [
        {
          "output_type": "stream",
          "name": "stdout",
          "text": [
            "Testing for 1 episodes ...\n"
          ]
        },
        {
          "output_type": "error",
          "ename": "KeyboardInterrupt",
          "evalue": "ignored",
          "traceback": [
            "\u001b[0;31m---------------------------------------------------------------------------\u001b[0m",
            "\u001b[0;31mKeyboardInterrupt\u001b[0m                         Traceback (most recent call last)",
            "\u001b[0;32m<ipython-input-39-23a00b6bfead>\u001b[0m in \u001b[0;36m<cell line: 1>\u001b[0;34m()\u001b[0m\n\u001b[0;32m----> 1\u001b[0;31m \u001b[0mdqn\u001b[0m\u001b[0;34m.\u001b[0m\u001b[0mtest\u001b[0m\u001b[0;34m(\u001b[0m\u001b[0menv\u001b[0m\u001b[0;34m,\u001b[0m\u001b[0mvisualize\u001b[0m\u001b[0;34m=\u001b[0m\u001b[0;32mFalse\u001b[0m\u001b[0;34m)\u001b[0m\u001b[0;34m\u001b[0m\u001b[0;34m\u001b[0m\u001b[0m\n\u001b[0m",
            "\u001b[0;32m/usr/local/lib/python3.10/dist-packages/rl/core.py\u001b[0m in \u001b[0;36mtest\u001b[0;34m(self, env, nb_episodes, action_repetition, callbacks, visualize, nb_max_episode_steps, nb_max_start_steps, start_step_policy, verbose)\u001b[0m\n\u001b[1;32m    339\u001b[0m                 \u001b[0mcallbacks\u001b[0m\u001b[0;34m.\u001b[0m\u001b[0mon_step_begin\u001b[0m\u001b[0;34m(\u001b[0m\u001b[0mepisode_step\u001b[0m\u001b[0;34m)\u001b[0m\u001b[0;34m\u001b[0m\u001b[0;34m\u001b[0m\u001b[0m\n\u001b[1;32m    340\u001b[0m \u001b[0;34m\u001b[0m\u001b[0m\n\u001b[0;32m--> 341\u001b[0;31m                 \u001b[0maction\u001b[0m \u001b[0;34m=\u001b[0m \u001b[0mself\u001b[0m\u001b[0;34m.\u001b[0m\u001b[0mforward\u001b[0m\u001b[0;34m(\u001b[0m\u001b[0mobservation\u001b[0m\u001b[0;34m)\u001b[0m\u001b[0;34m\u001b[0m\u001b[0;34m\u001b[0m\u001b[0m\n\u001b[0m\u001b[1;32m    342\u001b[0m                 \u001b[0;32mif\u001b[0m \u001b[0mself\u001b[0m\u001b[0;34m.\u001b[0m\u001b[0mprocessor\u001b[0m \u001b[0;32mis\u001b[0m \u001b[0;32mnot\u001b[0m \u001b[0;32mNone\u001b[0m\u001b[0;34m:\u001b[0m\u001b[0;34m\u001b[0m\u001b[0;34m\u001b[0m\u001b[0m\n\u001b[1;32m    343\u001b[0m                     \u001b[0maction\u001b[0m \u001b[0;34m=\u001b[0m \u001b[0mself\u001b[0m\u001b[0;34m.\u001b[0m\u001b[0mprocessor\u001b[0m\u001b[0;34m.\u001b[0m\u001b[0mprocess_action\u001b[0m\u001b[0;34m(\u001b[0m\u001b[0maction\u001b[0m\u001b[0;34m)\u001b[0m\u001b[0;34m\u001b[0m\u001b[0;34m\u001b[0m\u001b[0m\n",
            "\u001b[0;32m/usr/local/lib/python3.10/dist-packages/rl/agents/dqn.py\u001b[0m in \u001b[0;36mforward\u001b[0;34m(self, observation)\u001b[0m\n\u001b[1;32m    222\u001b[0m         \u001b[0;31m# Select an action.\u001b[0m\u001b[0;34m\u001b[0m\u001b[0;34m\u001b[0m\u001b[0m\n\u001b[1;32m    223\u001b[0m         \u001b[0mstate\u001b[0m \u001b[0;34m=\u001b[0m \u001b[0mself\u001b[0m\u001b[0;34m.\u001b[0m\u001b[0mmemory\u001b[0m\u001b[0;34m.\u001b[0m\u001b[0mget_recent_state\u001b[0m\u001b[0;34m(\u001b[0m\u001b[0mobservation\u001b[0m\u001b[0;34m)\u001b[0m\u001b[0;34m\u001b[0m\u001b[0;34m\u001b[0m\u001b[0m\n\u001b[0;32m--> 224\u001b[0;31m         \u001b[0mq_values\u001b[0m \u001b[0;34m=\u001b[0m \u001b[0mself\u001b[0m\u001b[0;34m.\u001b[0m\u001b[0mcompute_q_values\u001b[0m\u001b[0;34m(\u001b[0m\u001b[0mstate\u001b[0m\u001b[0;34m)\u001b[0m\u001b[0;34m\u001b[0m\u001b[0;34m\u001b[0m\u001b[0m\n\u001b[0m\u001b[1;32m    225\u001b[0m         \u001b[0;32mif\u001b[0m \u001b[0mself\u001b[0m\u001b[0;34m.\u001b[0m\u001b[0mtraining\u001b[0m\u001b[0;34m:\u001b[0m\u001b[0;34m\u001b[0m\u001b[0;34m\u001b[0m\u001b[0m\n\u001b[1;32m    226\u001b[0m             \u001b[0maction\u001b[0m \u001b[0;34m=\u001b[0m \u001b[0mself\u001b[0m\u001b[0;34m.\u001b[0m\u001b[0mpolicy\u001b[0m\u001b[0;34m.\u001b[0m\u001b[0mselect_action\u001b[0m\u001b[0;34m(\u001b[0m\u001b[0mq_values\u001b[0m\u001b[0;34m=\u001b[0m\u001b[0mq_values\u001b[0m\u001b[0;34m)\u001b[0m\u001b[0;34m\u001b[0m\u001b[0;34m\u001b[0m\u001b[0m\n",
            "\u001b[0;32m/usr/local/lib/python3.10/dist-packages/rl/agents/dqn.py\u001b[0m in \u001b[0;36mcompute_q_values\u001b[0;34m(self, state)\u001b[0m\n\u001b[1;32m     66\u001b[0m \u001b[0;34m\u001b[0m\u001b[0m\n\u001b[1;32m     67\u001b[0m     \u001b[0;32mdef\u001b[0m \u001b[0mcompute_q_values\u001b[0m\u001b[0;34m(\u001b[0m\u001b[0mself\u001b[0m\u001b[0;34m,\u001b[0m \u001b[0mstate\u001b[0m\u001b[0;34m)\u001b[0m\u001b[0;34m:\u001b[0m\u001b[0;34m\u001b[0m\u001b[0;34m\u001b[0m\u001b[0m\n\u001b[0;32m---> 68\u001b[0;31m         \u001b[0mq_values\u001b[0m \u001b[0;34m=\u001b[0m \u001b[0mself\u001b[0m\u001b[0;34m.\u001b[0m\u001b[0mcompute_batch_q_values\u001b[0m\u001b[0;34m(\u001b[0m\u001b[0;34m[\u001b[0m\u001b[0mstate\u001b[0m\u001b[0;34m]\u001b[0m\u001b[0;34m)\u001b[0m\u001b[0;34m.\u001b[0m\u001b[0mflatten\u001b[0m\u001b[0;34m(\u001b[0m\u001b[0;34m)\u001b[0m\u001b[0;34m\u001b[0m\u001b[0;34m\u001b[0m\u001b[0m\n\u001b[0m\u001b[1;32m     69\u001b[0m         \u001b[0;32massert\u001b[0m \u001b[0mq_values\u001b[0m\u001b[0;34m.\u001b[0m\u001b[0mshape\u001b[0m \u001b[0;34m==\u001b[0m \u001b[0;34m(\u001b[0m\u001b[0mself\u001b[0m\u001b[0;34m.\u001b[0m\u001b[0mnb_actions\u001b[0m\u001b[0;34m,\u001b[0m\u001b[0;34m)\u001b[0m\u001b[0;34m\u001b[0m\u001b[0;34m\u001b[0m\u001b[0m\n\u001b[1;32m     70\u001b[0m         \u001b[0;32mreturn\u001b[0m \u001b[0mq_values\u001b[0m\u001b[0;34m\u001b[0m\u001b[0;34m\u001b[0m\u001b[0m\n",
            "\u001b[0;32m/usr/local/lib/python3.10/dist-packages/rl/agents/dqn.py\u001b[0m in \u001b[0;36mcompute_batch_q_values\u001b[0;34m(self, state_batch)\u001b[0m\n\u001b[1;32m     61\u001b[0m     \u001b[0;32mdef\u001b[0m \u001b[0mcompute_batch_q_values\u001b[0m\u001b[0;34m(\u001b[0m\u001b[0mself\u001b[0m\u001b[0;34m,\u001b[0m \u001b[0mstate_batch\u001b[0m\u001b[0;34m)\u001b[0m\u001b[0;34m:\u001b[0m\u001b[0;34m\u001b[0m\u001b[0;34m\u001b[0m\u001b[0m\n\u001b[1;32m     62\u001b[0m         \u001b[0mbatch\u001b[0m \u001b[0;34m=\u001b[0m \u001b[0mself\u001b[0m\u001b[0;34m.\u001b[0m\u001b[0mprocess_state_batch\u001b[0m\u001b[0;34m(\u001b[0m\u001b[0mstate_batch\u001b[0m\u001b[0;34m)\u001b[0m\u001b[0;34m\u001b[0m\u001b[0;34m\u001b[0m\u001b[0m\n\u001b[0;32m---> 63\u001b[0;31m         \u001b[0mq_values\u001b[0m \u001b[0;34m=\u001b[0m \u001b[0mself\u001b[0m\u001b[0;34m.\u001b[0m\u001b[0mmodel\u001b[0m\u001b[0;34m.\u001b[0m\u001b[0mpredict_on_batch\u001b[0m\u001b[0;34m(\u001b[0m\u001b[0mbatch\u001b[0m\u001b[0;34m)\u001b[0m\u001b[0;34m\u001b[0m\u001b[0;34m\u001b[0m\u001b[0m\n\u001b[0m\u001b[1;32m     64\u001b[0m         \u001b[0;32massert\u001b[0m \u001b[0mq_values\u001b[0m\u001b[0;34m.\u001b[0m\u001b[0mshape\u001b[0m \u001b[0;34m==\u001b[0m \u001b[0;34m(\u001b[0m\u001b[0mlen\u001b[0m\u001b[0;34m(\u001b[0m\u001b[0mstate_batch\u001b[0m\u001b[0;34m)\u001b[0m\u001b[0;34m,\u001b[0m \u001b[0mself\u001b[0m\u001b[0;34m.\u001b[0m\u001b[0mnb_actions\u001b[0m\u001b[0;34m)\u001b[0m\u001b[0;34m\u001b[0m\u001b[0;34m\u001b[0m\u001b[0m\n\u001b[1;32m     65\u001b[0m         \u001b[0;32mreturn\u001b[0m \u001b[0mq_values\u001b[0m\u001b[0;34m\u001b[0m\u001b[0;34m\u001b[0m\u001b[0m\n",
            "\u001b[0;32m/usr/local/lib/python3.10/dist-packages/keras/src/engine/training_v1.py\u001b[0m in \u001b[0;36mpredict_on_batch\u001b[0;34m(self, x)\u001b[0m\n\u001b[1;32m   1319\u001b[0m \u001b[0;34m\u001b[0m\u001b[0m\n\u001b[1;32m   1320\u001b[0m         \u001b[0mself\u001b[0m\u001b[0;34m.\u001b[0m\u001b[0m_make_predict_function\u001b[0m\u001b[0;34m(\u001b[0m\u001b[0;34m)\u001b[0m\u001b[0;34m\u001b[0m\u001b[0;34m\u001b[0m\u001b[0m\n\u001b[0;32m-> 1321\u001b[0;31m         \u001b[0moutputs\u001b[0m \u001b[0;34m=\u001b[0m \u001b[0mself\u001b[0m\u001b[0;34m.\u001b[0m\u001b[0mpredict_function\u001b[0m\u001b[0;34m(\u001b[0m\u001b[0minputs\u001b[0m\u001b[0;34m)\u001b[0m\u001b[0;34m\u001b[0m\u001b[0;34m\u001b[0m\u001b[0m\n\u001b[0m\u001b[1;32m   1322\u001b[0m \u001b[0;34m\u001b[0m\u001b[0m\n\u001b[1;32m   1323\u001b[0m         \u001b[0;32mif\u001b[0m \u001b[0mlen\u001b[0m\u001b[0;34m(\u001b[0m\u001b[0moutputs\u001b[0m\u001b[0;34m)\u001b[0m \u001b[0;34m==\u001b[0m \u001b[0;36m1\u001b[0m\u001b[0;34m:\u001b[0m\u001b[0;34m\u001b[0m\u001b[0;34m\u001b[0m\u001b[0m\n",
            "\u001b[0;32m/usr/local/lib/python3.10/dist-packages/keras/src/backend.py\u001b[0m in \u001b[0;36m__call__\u001b[0;34m(self, inputs)\u001b[0m\n\u001b[1;32m   4607\u001b[0m             \u001b[0mself\u001b[0m\u001b[0;34m.\u001b[0m\u001b[0m_make_callable\u001b[0m\u001b[0;34m(\u001b[0m\u001b[0mfeed_arrays\u001b[0m\u001b[0;34m,\u001b[0m \u001b[0mfeed_symbols\u001b[0m\u001b[0;34m,\u001b[0m \u001b[0msymbol_vals\u001b[0m\u001b[0;34m,\u001b[0m \u001b[0msession\u001b[0m\u001b[0;34m)\u001b[0m\u001b[0;34m\u001b[0m\u001b[0;34m\u001b[0m\u001b[0m\n\u001b[1;32m   4608\u001b[0m \u001b[0;34m\u001b[0m\u001b[0m\n\u001b[0;32m-> 4609\u001b[0;31m         \u001b[0mfetched\u001b[0m \u001b[0;34m=\u001b[0m \u001b[0mself\u001b[0m\u001b[0;34m.\u001b[0m\u001b[0m_callable_fn\u001b[0m\u001b[0;34m(\u001b[0m\u001b[0;34m*\u001b[0m\u001b[0marray_vals\u001b[0m\u001b[0;34m,\u001b[0m \u001b[0mrun_metadata\u001b[0m\u001b[0;34m=\u001b[0m\u001b[0mself\u001b[0m\u001b[0;34m.\u001b[0m\u001b[0mrun_metadata\u001b[0m\u001b[0;34m)\u001b[0m\u001b[0;34m\u001b[0m\u001b[0;34m\u001b[0m\u001b[0m\n\u001b[0m\u001b[1;32m   4610\u001b[0m         \u001b[0mself\u001b[0m\u001b[0;34m.\u001b[0m\u001b[0m_call_fetch_callbacks\u001b[0m\u001b[0;34m(\u001b[0m\u001b[0mfetched\u001b[0m\u001b[0;34m[\u001b[0m\u001b[0;34m-\u001b[0m\u001b[0mlen\u001b[0m\u001b[0;34m(\u001b[0m\u001b[0mself\u001b[0m\u001b[0;34m.\u001b[0m\u001b[0m_fetches\u001b[0m\u001b[0;34m)\u001b[0m \u001b[0;34m:\u001b[0m\u001b[0;34m]\u001b[0m\u001b[0;34m)\u001b[0m\u001b[0;34m\u001b[0m\u001b[0;34m\u001b[0m\u001b[0m\n\u001b[1;32m   4611\u001b[0m         output_structure = tf.nest.pack_sequence_as(\n",
            "\u001b[0;32m/usr/local/lib/python3.10/dist-packages/tensorflow/python/client/session.py\u001b[0m in \u001b[0;36m__call__\u001b[0;34m(self, *args, **kwargs)\u001b[0m\n\u001b[1;32m   1503\u001b[0m       \u001b[0;32mtry\u001b[0m\u001b[0;34m:\u001b[0m\u001b[0;34m\u001b[0m\u001b[0;34m\u001b[0m\u001b[0m\n\u001b[1;32m   1504\u001b[0m         \u001b[0mrun_metadata_ptr\u001b[0m \u001b[0;34m=\u001b[0m \u001b[0mtf_session\u001b[0m\u001b[0;34m.\u001b[0m\u001b[0mTF_NewBuffer\u001b[0m\u001b[0;34m(\u001b[0m\u001b[0;34m)\u001b[0m \u001b[0;32mif\u001b[0m \u001b[0mrun_metadata\u001b[0m \u001b[0;32melse\u001b[0m \u001b[0;32mNone\u001b[0m\u001b[0;34m\u001b[0m\u001b[0;34m\u001b[0m\u001b[0m\n\u001b[0;32m-> 1505\u001b[0;31m         ret = tf_session.TF_SessionRunCallable(self._session._session,\n\u001b[0m\u001b[1;32m   1506\u001b[0m                                                \u001b[0mself\u001b[0m\u001b[0;34m.\u001b[0m\u001b[0m_handle\u001b[0m\u001b[0;34m,\u001b[0m \u001b[0margs\u001b[0m\u001b[0;34m,\u001b[0m\u001b[0;34m\u001b[0m\u001b[0;34m\u001b[0m\u001b[0m\n\u001b[1;32m   1507\u001b[0m                                                run_metadata_ptr)\n",
            "\u001b[0;31mKeyboardInterrupt\u001b[0m: "
          ]
        }
      ]
    },
    {
      "cell_type": "code",
      "source": [
        " import numpy as np\n",
        "import matplotlib.pyplot as plt\n",
        "\n",
        "# Assuming you have a trained DQN agent and an environment\n",
        "\n",
        "# Function to visualize Q-values for different states\n",
        "def visualize_q_values(agent, states):\n",
        "    q_values = []\n",
        "    for state in states:\n",
        "        q_values.append(agent.get_q_values(state))  # Assuming agent has a method to get Q-values for a state\n",
        "\n",
        "    q_values = np.array(q_values)\n",
        "\n",
        "    plt.figure(figsize=(10, 6))\n",
        "    for action_idx in range(agent.action_space):\n",
        "        plt.plot(q_values[:, action_idx], label=f'Action {action_idx}')\n",
        "    plt.xlabel('States')\n",
        "    plt.ylabel('Q-values')\n",
        "    plt.title('Q-values for different actions in states')\n",
        "    plt.legend()\n",
        "    plt.show()\n",
        "\n",
        "# Function to visualize action distribution\n",
        "def visualize_action_distribution(agent, episodes):\n",
        "    action_counts = np.zeros(agent.action_space)\n",
        "    for episode in episodes:\n",
        "        actions = agent.get_actions(episode)  # Assuming agent has a method to get actions taken in an episode\n",
        "        unique, counts = np.unique(actions, return_counts=True)\n",
        "        for idx, action in enumerate(unique):\n",
        "            action_counts[action] += counts[idx]\n",
        "\n",
        "    plt.figure(figsize=(8, 6))\n",
        "    plt.bar(range(agent.action_space), action_counts)\n",
        "    plt.xlabel('Actions')\n",
        "    plt.ylabel('Frequency')\n",
        "    plt.title('Action Distribution')\n",
        "    plt.show()\n",
        "\n",
        "# Assuming you have states and episodes data available for visualization\n",
        "# states = [...]  # List of states\n",
        "# episodes = [...]  # List of episodes\n",
        "\n",
        "# Visualizing Q-values\n",
        "visualize_q_values(dqn, states)\n",
        "\n",
        "# Visualizing action distribution\n",
        "visualize_action_distribution(dqn, 10)\n"
      ],
      "metadata": {
        "id": "mee1uTx3184r"
      },
      "id": "mee1uTx3184r",
      "execution_count": null,
      "outputs": []
    },
    {
      "cell_type": "code",
      "source": [],
      "metadata": {
        "id": "DHO4J091LHKB"
      },
      "id": "DHO4J091LHKB",
      "execution_count": null,
      "outputs": []
    }
  ],
  "metadata": {
    "kernelspec": {
      "display_name": "Python 3 (ipykernel)",
      "language": "python",
      "name": "python3"
    },
    "language_info": {
      "codemirror_mode": {
        "name": "ipython",
        "version": 3
      },
      "file_extension": ".py",
      "mimetype": "text/x-python",
      "name": "python",
      "nbconvert_exporter": "python",
      "pygments_lexer": "ipython3",
      "version": "3.11.5"
    },
    "colab": {
      "provenance": [],
      "collapsed_sections": [
        "f1aee54a-12db-4623-902a-62de24accf24",
        "914c522b-49fd-4c97-94c2-9b8c4b15d5a8",
        "189215aa-d27d-4e4e-8c40-a32b267ccddb",
        "e6525e4d-5993-4822-80af-a1eedca69b7b"
      ],
      "include_colab_link": true
    }
  },
  "nbformat": 4,
  "nbformat_minor": 5
}