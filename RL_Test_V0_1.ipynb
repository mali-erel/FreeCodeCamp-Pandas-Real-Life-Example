{
  "cells": [
    {
      "cell_type": "markdown",
      "metadata": {
        "id": "view-in-github",
        "colab_type": "text"
      },
      "source": [
        "<a href=\"https://colab.research.google.com/github/mali-erel/FreeCodeCamp-Pandas-Real-Life-Example/blob/master/RL_Test_V0_1.ipynb\" target=\"_parent\"><img src=\"https://colab.research.google.com/assets/colab-badge.svg\" alt=\"Open In Colab\"/></a>"
      ]
    },
    {
      "cell_type": "code",
      "source": [
        "\n",
        "\n",
        "!pip install -q tensorflow\n",
        "!pip install -q gym\n",
        "!pip install -q keras\n",
        "!pip install -q keras-rl2\n",
        "\n"
      ],
      "metadata": {
        "id": "gZCgl6v3__e8",
        "colab": {
          "base_uri": "https://localhost:8080/"
        },
        "outputId": "7cbf5d69-4b1c-46f4-c486-a542a15fc723"
      },
      "id": "gZCgl6v3__e8",
      "execution_count": 3,
      "outputs": [
        {
          "output_type": "stream",
          "name": "stdout",
          "text": [
            "\u001b[?25l     \u001b[90m━━━━━━━━━━━━━━━━━━━━━━━━━━━━━━━━━━━━━━━━\u001b[0m \u001b[32m0.0/52.1 kB\u001b[0m \u001b[31m?\u001b[0m eta \u001b[36m-:--:--\u001b[0m\r\u001b[2K     \u001b[90m━━━━━━━━━━━━━━━━━━━━━━━━━━━━━━━━━━━━━━━━\u001b[0m \u001b[32m52.1/52.1 kB\u001b[0m \u001b[31m1.6 MB/s\u001b[0m eta \u001b[36m0:00:00\u001b[0m\n",
            "\u001b[?25h"
          ]
        }
      ]
    },
    {
      "cell_type": "code",
      "source": [
        "!pip install -q keras\n",
        "!pip install -q keras-rl2"
      ],
      "metadata": {
        "colab": {
          "base_uri": "https://localhost:8080/"
        },
        "id": "ekRaJe3t_TsI",
        "outputId": "c543a4e4-97fe-472d-cae7-f049f5791006"
      },
      "id": "ekRaJe3t_TsI",
      "execution_count": 1,
      "outputs": [
        {
          "output_type": "stream",
          "name": "stdout",
          "text": [
            "\u001b[33mWARNING: Ignoring invalid distribution -ensorflow (/usr/local/lib/python3.10/dist-packages)\u001b[0m\u001b[33m\n",
            "\u001b[0m\u001b[33mWARNING: Ignoring invalid distribution -ensorflow (/usr/local/lib/python3.10/dist-packages)\u001b[0m\u001b[33m\n",
            "\u001b[0m\u001b[33mWARNING: Ignoring invalid distribution -ensorflow (/usr/local/lib/python3.10/dist-packages)\u001b[0m\u001b[33m\n",
            "\u001b[0m\u001b[33mWARNING: Ignoring invalid distribution -ensorflow (/usr/local/lib/python3.10/dist-packages)\u001b[0m\u001b[33m\n",
            "\u001b[0m"
          ]
        }
      ]
    },
    {
      "cell_type": "markdown",
      "source": [
        "### Imports"
      ],
      "metadata": {
        "id": "F3jBe0ZgWQ20"
      },
      "id": "F3jBe0ZgWQ20"
    },
    {
      "cell_type": "code",
      "execution_count": 1,
      "id": "5a354e2a-2d8b-4133-b74f-c2c11a7c9886",
      "metadata": {
        "tags": [],
        "colab": {
          "base_uri": "https://localhost:8080/"
        },
        "id": "5a354e2a-2d8b-4133-b74f-c2c11a7c9886",
        "outputId": "37894b6c-f272-4f45-e2c8-0ce4c6a0cf89"
      },
      "outputs": [
        {
          "output_type": "stream",
          "name": "stderr",
          "text": [
            "/usr/local/lib/python3.10/dist-packages/tensorflow/python/framework/dtypes.py:35: DeprecationWarning: ml_dtypes.float8_e4m3b11 is deprecated. Use ml_dtypes.float8_e4m3b11fnuz\n",
            "  from tensorflow.tsl.python.lib.core import pywrap_ml_dtypes\n"
          ]
        }
      ],
      "source": [
        "import numpy as np\n",
        "from matplotlib import pyplot as plt\n",
        "import matplotlib.image as mpimg\n",
        "import gym\n",
        "from gym import Env\n",
        "from gym.spaces import Discrete, Box\n",
        "import random\n",
        "import math\n",
        "import tensorflow as tf\n",
        "import keras\n",
        "import pandas as pd\n",
        "\n",
        "from tensorflow.keras.models import Sequential\n",
        "from tensorflow.keras.layers import Dense, Flatten\n",
        "from tensorflow.keras.optimizers.legacy import Adam\n",
        "from tensorflow.keras.callbacks import TensorBoard\n",
        "\n",
        "from keras import __version__\n",
        "tf.keras.__version__ = __version__\n",
        "\n",
        "from rl.agents.dqn import DQNAgent\n",
        "from rl.policy import BoltzmannQPolicy\n",
        "from rl.memory import SequentialMemory"
      ]
    },
    {
      "cell_type": "markdown",
      "id": "0195499a-3efe-4f25-98b6-9658cbb646cb",
      "metadata": {
        "jp-MarkdownHeadingCollapsed": true,
        "tags": [],
        "id": "0195499a-3efe-4f25-98b6-9658cbb646cb"
      },
      "source": [
        "## GYM Environment Experimental"
      ]
    },
    {
      "cell_type": "markdown",
      "id": "9611c711-3320-4947-a64c-53e288631883",
      "metadata": {
        "tags": [],
        "id": "9611c711-3320-4947-a64c-53e288631883"
      },
      "source": [
        "### Relay 2"
      ]
    },
    {
      "cell_type": "code",
      "execution_count": 64,
      "id": "3bd99b09-e8bd-4513-bc0e-7f9c336e9526",
      "metadata": {
        "tags": [],
        "colab": {
          "base_uri": "https://localhost:8080/"
        },
        "id": "3bd99b09-e8bd-4513-bc0e-7f9c336e9526",
        "outputId": "bd77b2d3-6319-4845-bcd6-da140b23c691"
      },
      "outputs": [
        {
          "output_type": "execute_result",
          "data": {
            "text/plain": [
              "(30,)"
            ]
          },
          "metadata": {},
          "execution_count": 64
        }
      ],
      "source": [
        "x_rl2 = np.linspace(1.23,30,30)\n",
        "TMS=0.5\n",
        "y_vals = []\n",
        "for x in x_rl2:\n",
        "    y_vals.append(TMS*((0.14)//(x**0.02-1)))\n",
        "y_rl2 = np.array(y_vals)\n",
        "x_rl2.shape"
      ]
    },
    {
      "cell_type": "markdown",
      "id": "f1aee54a-12db-4623-902a-62de24accf24",
      "metadata": {
        "tags": [],
        "id": "f1aee54a-12db-4623-902a-62de24accf24"
      },
      "source": [
        "### Relay 1"
      ]
    },
    {
      "cell_type": "code",
      "execution_count": 62,
      "id": "5105af3b-08c5-4896-ade5-9db82e8a6668",
      "metadata": {
        "tags": [],
        "colab": {
          "base_uri": "https://localhost:8080/"
        },
        "id": "5105af3b-08c5-4896-ade5-9db82e8a6668",
        "outputId": "a9ebadf1-b434-4973-bde7-64a1463e9843"
      },
      "outputs": [
        {
          "output_type": "execute_result",
          "data": {
            "text/plain": [
              "array([ 1.1       ,  2.09655172,  3.09310345,  4.08965517,  5.0862069 ,\n",
              "        6.08275862,  7.07931034,  8.07586207,  9.07241379, 10.06896552,\n",
              "       11.06551724, 12.06206897, 13.05862069, 14.05517241, 15.05172414,\n",
              "       16.04827586, 17.04482759, 18.04137931, 19.03793103, 20.03448276,\n",
              "       21.03103448, 22.02758621, 23.02413793, 24.02068966, 25.01724138,\n",
              "       26.0137931 , 27.01034483, 28.00689655, 29.00344828, 30.        ])"
            ]
          },
          "metadata": {},
          "execution_count": 62
        }
      ],
      "source": [
        "x_rl1 = np.linspace(1.1,30,30)\n",
        "TMS_rl1 = 0.67\n",
        "y_rl1 =[]\n",
        "for x in x_rl1:\n",
        "    y_rl1.append((TMS_rl1 * ((0.14)//(x**0.02-1))))\n",
        "y_rl1 = np.array(y_rl1)\n",
        "x_rl1"
      ]
    },
    {
      "cell_type": "markdown",
      "id": "914c522b-49fd-4c97-94c2-9b8c4b15d5a8",
      "metadata": {
        "tags": [],
        "id": "914c522b-49fd-4c97-94c2-9b8c4b15d5a8"
      },
      "source": [
        "### Starting Graphs of Each Relays"
      ]
    },
    {
      "cell_type": "code",
      "execution_count": 178,
      "id": "290f201f-02df-4d71-bd4f-65a368268d81",
      "metadata": {
        "tags": [],
        "colab": {
          "base_uri": "https://localhost:8080/",
          "height": 736
        },
        "id": "290f201f-02df-4d71-bd4f-65a368268d81",
        "outputId": "bfe5d582-1888-4241-9297-9dbd36a1a5ee"
      },
      "outputs": [
        {
          "output_type": "execute_result",
          "data": {
            "text/plain": [
              "Text(0.5, 1.0, 'Relay 1')"
            ]
          },
          "metadata": {},
          "execution_count": 178
        },
        {
          "output_type": "display_data",
          "data": {
            "text/plain": [
              "<Figure size 1000x800 with 2 Axes>"
            ],
            "image/png": "[encoded data removed]"
          },
          "metadata": {}
        }
      ],
      "source": [
        "plt.figure(figsize=(10,8))\n",
        "\n",
        "plt.subplot(1,2,1)\n",
        "plt.plot(x_rl2,y_rl2)\n",
        "plt.xlabel('amps x 100')\n",
        "plt.ylabel('seconds')\n",
        "plt.title('Relay 2')\n",
        "\n",
        "plt.subplot(1,2,2)\n",
        "plt.plot(x_rl1,y_rl1)\n",
        "plt.xlabel('amps x 100')\n",
        "plt.ylabel('seconds')\n",
        "plt.title('Relay 1')"
      ]
    },
    {
      "cell_type": "markdown",
      "id": "e1669243-16cc-458e-b57a-75de16c85c49",
      "metadata": {
        "tags": [],
        "id": "e1669243-16cc-458e-b57a-75de16c85c49"
      },
      "source": [
        "### GYM Environemnt"
      ]
    },
    {
      "cell_type": "code",
      "source": [
        "x = random.uniform(0,1)\n",
        "x\n",
        "random.uniform(0.005,1)"
      ],
      "metadata": {
        "colab": {
          "base_uri": "https://localhost:8080/"
        },
        "id": "ujf411V5_xmQ",
        "outputId": "e0bc5354-5f95-4092-c217-6f2e0f263515"
      },
      "id": "ujf411V5_xmQ",
      "execution_count": 455,
      "outputs": [
        {
          "output_type": "execute_result",
          "data": {
            "text/plain": [
              "0.6301460658096854"
            ]
          },
          "metadata": {},
          "execution_count": 455
        }
      ]
    },
    {
      "cell_type": "code",
      "execution_count": 218,
      "id": "9ff4c86d-b1c4-4381-ad94-d2152fab1d7e",
      "metadata": {
        "tags": [],
        "id": "9ff4c86d-b1c4-4381-ad94-d2152fab1d7e",
        "colab": {
          "base_uri": "https://localhost:8080/"
        },
        "outputId": "46ea3927-d136-42e6-e2d3-4760a9e09fbd"
      },
      "outputs": [
        {
          "output_type": "stream",
          "name": "stderr",
          "text": [
            "/usr/local/lib/python3.10/dist-packages/ipykernel/ipkernel.py:283: DeprecationWarning: `should_run_async` will not call `transform_cell` automatically in the future. Please pass the result to `transformed_cell` argument and any exception that happen during thetransform in `preprocessing_exc_tuple` in IPython 7.17 and above.\n",
            "  and should_run_async(code)\n"
          ]
        }
      ],
      "source": [
        "def customCalc(TMS_Value,x_rl1,empty_y_rl1):\n",
        "  for x in x_rl1:\n",
        "    value = TMS_Value*((0.14)/(x**0.02-1))\n",
        "    empty_y_rl1.append(value)\n",
        "  empty_y_rl1 = np.array(empty_y_rl1)\n",
        "  return empty_y_rl1\n",
        "\n",
        "class testEnv(Env):\n",
        "\n",
        "  def __init__(self):\n",
        "      # Axtions we can take: up, down, wait\n",
        "      self.action_space = Discrete(3)\n",
        "      # Action array\n",
        "      # self.action_space = Box(low=-1.0,high=1.0,dtype=np.float32)\n",
        "      self.observation_space = Box(low=0.0,high = 100.0)\n",
        "      #Set start amp array\n",
        "      self.state = np.linspace(1.1,30,30) + random.uniform(-1,1)\n",
        "      # Set time (60 sec)\n",
        "      self.time_length = 60\n",
        "\n",
        "  def step(self,action):\n",
        "\n",
        "      TMS_Env = 0.67\n",
        "      random_add = 0\n",
        "      y_Env = []\n",
        "\n",
        "      if(action==0):\n",
        "          self.time_length -= 1\n",
        "          self.state += random.uniform(0.05,1)\n",
        "        #  print('Action 0 -- Value:{} -- Time:{}'.format(random_add,self.time_length))\n",
        "      elif(action==1):\n",
        "          self.time_length -= 1\n",
        "          self.state += random.uniform(-1,-0.05)\n",
        "        #  print('Action 1 -- Value:{} -- Time:{}'.format(random_add,self.time_length))\n",
        "      elif(action==2):\n",
        "          self.state = self.state\n",
        "\n",
        "      y_Env = customCalc(TMS_Env,self.state,y_Env)\n",
        "      dt = np.mean(np.subtract(y_rl2,y_Env))\n",
        "\n",
        "      if dt<0.55 and dt>0.39:\n",
        "        reward = 10\n",
        "      elif dt<0.65 and dt>0.25:\n",
        "        reward = 1\n",
        "      else:\n",
        "          reward = -1\n",
        "\n",
        "      if self.time_length <=0:\n",
        "          done=True\n",
        "      else:\n",
        "          done=False\n",
        "\n",
        "      info = {'dt':dt}#,'y_rl1':y_Env,'x_rl2':self.state}\n",
        "      return self.state, reward, done, info\n",
        "\n",
        "\n",
        "\n",
        "  def reset(self):\n",
        "      self.state = np.linspace(1.1,30,30)+ random.uniform(-1,1) #+ random.randint(-2,2)\n",
        "      self.time_length = 60\n",
        "      return self.state\n",
        "\n",
        "  def render(self):\n",
        "    #plt.plot(self.x_rl1_dep,self.y_rl1_dep,'g')\n",
        "    #plt.plot(x_rl2,y_rl2,'r')\n",
        "    #plt.xlabel('Amps')\n",
        "    #plt.ylabel('Seconds')\n",
        "    #plt.legend([\"Relay 1\", \"Relay 2\"], loc =\"lower right\")\n",
        "    pass"
      ]
    },
    {
      "cell_type": "code",
      "source": [
        "env = testEnv()\n",
        "env.reset"
      ],
      "metadata": {
        "colab": {
          "base_uri": "https://localhost:8080/"
        },
        "id": "opAsGYCQ1ix5",
        "outputId": "176c3061-1c78-4ac7-c41c-c0cedebd5155"
      },
      "id": "opAsGYCQ1ix5",
      "execution_count": 219,
      "outputs": [
        {
          "output_type": "execute_result",
          "data": {
            "text/plain": [
              "<bound method testEnv.reset of <__main__.testEnv object at 0x7b68f745b760>>"
            ]
          },
          "metadata": {},
          "execution_count": 219
        }
      ]
    },
    {
      "cell_type": "code",
      "source": [
        "env.action_space.sample()"
      ],
      "metadata": {
        "colab": {
          "base_uri": "https://localhost:8080/"
        },
        "id": "Kt1RxBZEFvJc",
        "outputId": "d1ff786b-2877-41ba-c6aa-fc30376bcfad"
      },
      "id": "Kt1RxBZEFvJc",
      "execution_count": 207,
      "outputs": [
        {
          "output_type": "execute_result",
          "data": {
            "text/plain": [
              "1"
            ]
          },
          "metadata": {},
          "execution_count": 207
        }
      ]
    },
    {
      "cell_type": "code",
      "execution_count": 208,
      "id": "99db6d74-fd87-4405-94ed-5ba0968263a3",
      "metadata": {
        "tags": [],
        "colab": {
          "base_uri": "https://localhost:8080/"
        },
        "id": "99db6d74-fd87-4405-94ed-5ba0968263a3",
        "outputId": "16406696-8af2-4f70-85b7-fda4a0a40e56"
      },
      "outputs": [
        {
          "output_type": "execute_result",
          "data": {
            "text/plain": [
              "array([ 2.03448021,  3.03103194,  4.02758366,  5.02413539,  6.02068711,\n",
              "        7.01723884,  8.01379056,  9.01034228, 10.00689401, 11.00344573,\n",
              "       11.99999746, 12.99654918, 13.9931009 , 14.98965263, 15.98620435,\n",
              "       16.98275608, 17.9793078 , 18.97585953, 19.97241125, 20.96896297,\n",
              "       21.9655147 , 22.96206642, 23.95861815, 24.95516987, 25.95172159,\n",
              "       26.94827332, 27.94482504, 28.94137677, 29.93792849, 30.93448021])"
            ]
          },
          "metadata": {},
          "execution_count": 208
        }
      ],
      "source": [
        "env.state"
      ]
    },
    {
      "cell_type": "code",
      "execution_count": 209,
      "id": "d745b64f-5fd3-4fe3-acc5-8b2a00f62287",
      "metadata": {
        "tags": [],
        "colab": {
          "base_uri": "https://localhost:8080/"
        },
        "id": "d745b64f-5fd3-4fe3-acc5-8b2a00f62287",
        "outputId": "c2208448-adb1-453c-a8e3-5fdf5c078c38"
      },
      "outputs": [
        {
          "output_type": "execute_result",
          "data": {
            "text/plain": [
              "Box(0.0, 100.0, (1,), float32)"
            ]
          },
          "metadata": {},
          "execution_count": 209
        }
      ],
      "source": [
        "env.observation_space"
      ]
    },
    {
      "cell_type": "code",
      "source": [
        "env.action_space.n"
      ],
      "metadata": {
        "colab": {
          "base_uri": "https://localhost:8080/"
        },
        "id": "1lkrmdyhymNf",
        "outputId": "b469f1d5-8f40-4e30-987d-07ab593586ef"
      },
      "id": "1lkrmdyhymNf",
      "execution_count": 210,
      "outputs": [
        {
          "output_type": "execute_result",
          "data": {
            "text/plain": [
              "3"
            ]
          },
          "metadata": {},
          "execution_count": 210
        }
      ]
    },
    {
      "cell_type": "code",
      "execution_count": 188,
      "id": "da96e024-18c0-4bae-b690-c8aca2aced7c",
      "metadata": {
        "tags": [],
        "colab": {
          "base_uri": "https://localhost:8080/"
        },
        "id": "da96e024-18c0-4bae-b690-c8aca2aced7c",
        "outputId": "9c02ef07-dfd6-48aa-a21c-dd941e1b54c4"
      },
      "outputs": [
        {
          "output_type": "execute_result",
          "data": {
            "text/plain": [
              "array([ 1.1       ,  2.09655172,  3.09310345,  4.08965517,  5.0862069 ,\n",
              "        6.08275862,  7.07931034,  8.07586207,  9.07241379, 10.06896552,\n",
              "       11.06551724, 12.06206897, 13.05862069, 14.05517241, 15.05172414,\n",
              "       16.04827586, 17.04482759, 18.04137931, 19.03793103, 20.03448276,\n",
              "       21.03103448, 22.02758621, 23.02413793, 24.02068966, 25.01724138,\n",
              "       26.0137931 , 27.01034483, 28.00689655, 29.00344828, 30.        ])"
            ]
          },
          "metadata": {},
          "execution_count": 188
        }
      ],
      "source": [
        "x_rl1"
      ]
    },
    {
      "cell_type": "markdown",
      "id": "189215aa-d27d-4e4e-8c40-a32b267ccddb",
      "metadata": {
        "tags": [],
        "id": "189215aa-d27d-4e4e-8c40-a32b267ccddb"
      },
      "source": [
        "### Test"
      ]
    },
    {
      "cell_type": "code",
      "execution_count": 189,
      "id": "70ecbb47-21f8-486c-9ee1-5df553f688c9",
      "metadata": {
        "tags": [],
        "colab": {
          "base_uri": "https://localhost:8080/",
          "height": 1000
        },
        "id": "70ecbb47-21f8-486c-9ee1-5df553f688c9",
        "outputId": "f498f11f-3193-4446-897d-6c987464b068"
      },
      "outputs": [
        {
          "output_type": "stream",
          "name": "stderr",
          "text": [
            "<ipython-input-181-8c2b094cfe50>:3: RuntimeWarning: invalid value encountered in double_scalars\n",
            "  value = TMS_Value*((0.14)/(x**0.02-1))\n"
          ]
        },
        {
          "output_type": "stream",
          "name": "stdout",
          "text": [
            "Episode:1 Score:92\n",
            "Episode:2 Score:107\n",
            "Episode:3 Score:24\n",
            "Episode:4 Score:-48\n",
            "Episode:5 Score:80\n",
            "Episode:6 Score:143\n",
            "Episode:7 Score:181\n",
            "Episode:8 Score:172\n",
            "Episode:9 Score:-19\n",
            "Episode:10 Score:99\n",
            "Episode:11 Score:-39\n",
            "Episode:12 Score:-52\n",
            "Episode:13 Score:92\n",
            "Episode:14 Score:92\n",
            "Episode:15 Score:-4\n",
            "Episode:16 Score:109\n",
            "Episode:17 Score:-7\n",
            "Episode:18 Score:387\n",
            "Episode:19 Score:101\n",
            "Episode:20 Score:186\n",
            "Episode:21 Score:52\n",
            "Episode:22 Score:-33\n",
            "Episode:23 Score:75\n",
            "Episode:24 Score:70\n",
            "Episode:25 Score:54\n",
            "Episode:26 Score:373\n",
            "Episode:27 Score:92\n",
            "Episode:28 Score:103\n",
            "Episode:29 Score:87\n",
            "Episode:30 Score:65\n",
            "Episode:31 Score:85\n",
            "Episode:32 Score:172\n",
            "Episode:33 Score:66\n",
            "Episode:34 Score:181\n",
            "Episode:35 Score:86\n",
            "Episode:36 Score:40\n",
            "Episode:37 Score:297\n",
            "Episode:38 Score:-42\n",
            "Episode:39 Score:-10\n",
            "Episode:40 Score:260\n",
            "Episode:41 Score:79\n",
            "Episode:42 Score:19\n",
            "Episode:43 Score:-77\n",
            "Episode:44 Score:95\n",
            "Episode:45 Score:335\n",
            "Episode:46 Score:185\n",
            "Episode:47 Score:-56\n",
            "Episode:48 Score:100\n",
            "Episode:49 Score:186\n",
            "Episode:50 Score:101\n"
          ]
        },
        {
          "output_type": "display_data",
          "data": {
            "text/plain": [
              "<Figure size 640x480 with 1 Axes>"
            ],
            "image/png": "[encoded data removed]"
          },
          "metadata": {}
        }
      ],
      "source": [
        "episodes = 50\n",
        "stop = False\n",
        "for episode in range(1,episodes+1):\n",
        "  state = env.reset()\n",
        "  done = False\n",
        "  score = 0\n",
        "\n",
        "  while not done:\n",
        "\n",
        "    action = env.action_space.sample()\n",
        "    x_rl1_state, reward, done, info = env.step(action)\n",
        "    env.render()\n",
        "    score += reward\n",
        "  print('Episode:{} Score:{}'.format(episode,score))\n",
        "    #score += reward\n",
        "    #if score >= 100:\n",
        "    #  stop = True\n",
        "    #if stop == True:\n",
        "    #  break"
      ]
    },
    {
      "cell_type": "code",
      "execution_count": 138,
      "id": "ad39e3ee-734b-49fa-9aae-a85ac36d056a",
      "metadata": {
        "tags": [],
        "id": "ad39e3ee-734b-49fa-9aae-a85ac36d056a",
        "colab": {
          "base_uri": "https://localhost:8080/"
        },
        "outputId": "681547af-8227-497d-d5b7-b4f4d8eb03c2"
      },
      "outputs": [
        {
          "output_type": "execute_result",
          "data": {
            "text/plain": [
              "array([ 1.0355553 ,  2.03210702,  3.02865874,  4.02521047,  5.02176219,\n",
              "        6.01831392,  7.01486564,  8.01141736,  9.00796909, 10.00452081,\n",
              "       11.00107254, 11.99762426, 12.99417598, 13.99072771, 14.98727943,\n",
              "       15.98383116, 16.98038288, 17.97693461, 18.97348633, 19.97003805,\n",
              "       20.96658978, 21.9631415 , 22.95969323, 23.95624495, 24.95279667,\n",
              "       25.9493484 , 26.94590012, 27.94245185, 28.93900357, 29.9355553 ])"
            ]
          },
          "metadata": {},
          "execution_count": 138
        }
      ],
      "source": [
        "env.reset()"
      ]
    },
    {
      "cell_type": "code",
      "execution_count": 164,
      "id": "d9443710-d361-4635-958e-bc8092350f32",
      "metadata": {
        "tags": [],
        "id": "d9443710-d361-4635-958e-bc8092350f32"
      },
      "outputs": [],
      "source": [
        "x_rl1_state, reward, done, info= env.step(action)"
      ]
    },
    {
      "cell_type": "code",
      "source": [
        "info"
      ],
      "metadata": {
        "colab": {
          "base_uri": "https://localhost:8080/"
        },
        "id": "N9wEHsCzIJfl",
        "outputId": "5385506a-5d68-4693-dc4c-fa8314c8dfda"
      },
      "id": "N9wEHsCzIJfl",
      "execution_count": 169,
      "outputs": [
        {
          "output_type": "stream",
          "name": "stderr",
          "text": [
            "/usr/local/lib/python3.10/dist-packages/ipykernel/ipkernel.py:283: DeprecationWarning: `should_run_async` will not call `transform_cell` automatically in the future. Please pass the result to `transformed_cell` argument and any exception that happen during thetransform in `preprocessing_exc_tuple` in IPython 7.17 and above.\n",
            "  and should_run_async(code)\n"
          ]
        },
        {
          "output_type": "execute_result",
          "data": {
            "text/plain": [
              "{'dt': -0.5801703944284626,\n",
              " 'y_Env_all': True,\n",
              " 'self.state': True,\n",
              " 'y_rl1': array([14.22029939,  5.34705494,  3.80210627,  3.12914419,  2.74198524,\n",
              "         2.48591447,  2.30168171,  2.16146384,  2.05036602,  1.95964652,\n",
              "         1.88381237,  1.81922494,  1.76337042,  1.71445148,  1.67114591,\n",
              "         1.63245725,  1.59761892,  1.56603058,  1.53721464,  1.51078596,\n",
              "         1.48643008,  1.46388749,  1.44294186,  1.4234113 ,  1.4051416 ,\n",
              "         1.38800107,  1.3718765 ,  1.35666995,  1.3422962 ,  1.32868071]),\n",
              " 'x_rl2': array([ 1.38919887,  2.38575059,  3.38230232,  4.37885404,  5.37540576,\n",
              "         6.37195749,  7.36850921,  8.36506094,  9.36161266, 10.35816439,\n",
              "        11.35471611, 12.35126783, 13.34781956, 14.34437128, 15.34092301,\n",
              "        16.33747473, 17.33402645, 18.33057818, 19.3271299 , 20.32368163,\n",
              "        21.32023335, 22.31678507, 23.3133368 , 24.30988852, 25.30644025,\n",
              "        26.30299197, 27.2995437 , 28.29609542, 29.29264714, 30.28919887])}"
            ]
          },
          "metadata": {},
          "execution_count": 169
        }
      ]
    },
    {
      "cell_type": "code",
      "execution_count": 33,
      "id": "03164246-7da0-430e-b3eb-c97720075d27",
      "metadata": {
        "tags": [],
        "colab": {
          "base_uri": "https://localhost:8080/"
        },
        "id": "03164246-7da0-430e-b3eb-c97720075d27",
        "outputId": "e780d5b2-b1f5-44d3-e9f2-606c102c596c"
      },
      "outputs": [
        {
          "output_type": "execute_result",
          "data": {
            "text/plain": [
              "array([ 2.333608  ,  3.33015972,  4.32671145,  5.32326317,  6.3198149 ,\n",
              "        7.31636662,  8.31291835,  9.30947007, 10.30602179, 11.30257352,\n",
              "       12.29912524, 13.29567697, 14.29222869, 15.28878041, 16.28533214,\n",
              "       17.28188386, 18.27843559, 19.27498731, 20.27153904, 21.26809076,\n",
              "       22.26464248, 23.26119421, 24.25774593, 25.25429766, 26.25084938,\n",
              "       27.2474011 , 28.24395283, 29.24050455, 30.23705628, 31.233608  ])"
            ]
          },
          "metadata": {},
          "execution_count": 33
        }
      ],
      "source": [
        "x_rl1_state"
      ]
    },
    {
      "cell_type": "code",
      "execution_count": 34,
      "id": "663c3441-d550-47f2-9e7c-2ac13d7b32a6",
      "metadata": {
        "tags": [],
        "colab": {
          "base_uri": "https://localhost:8080/",
          "height": 181
        },
        "id": "663c3441-d550-47f2-9e7c-2ac13d7b32a6",
        "outputId": "9da0648c-ca93-4d20-9b8a-5a0d52598784"
      },
      "outputs": [
        {
          "output_type": "error",
          "ename": "NameError",
          "evalue": "ignored",
          "traceback": [
            "\u001b[0;31m---------------------------------------------------------------------------\u001b[0m",
            "\u001b[0;31mNameError\u001b[0m                                 Traceback (most recent call last)",
            "\u001b[0;32m<ipython-input-34-742b533e3ee1>\u001b[0m in \u001b[0;36m<cell line: 1>\u001b[0;34m()\u001b[0m\n\u001b[0;32m----> 1\u001b[0;31m \u001b[0my_rl1_state\u001b[0m\u001b[0;34m\u001b[0m\u001b[0;34m\u001b[0m\u001b[0m\n\u001b[0m",
            "\u001b[0;31mNameError\u001b[0m: name 'y_rl1_state' is not defined"
          ]
        }
      ],
      "source": [
        "y_rl1_state"
      ]
    },
    {
      "cell_type": "code",
      "execution_count": 21,
      "id": "563a580a-6dd0-47eb-8f39-828650b02adb",
      "metadata": {
        "tags": [],
        "colab": {
          "base_uri": "https://localhost:8080/"
        },
        "id": "563a580a-6dd0-47eb-8f39-828650b02adb",
        "outputId": "60d8adec-4c6e-436a-e272-81e54b2b109c"
      },
      "outputs": [
        {
          "output_type": "execute_result",
          "data": {
            "text/plain": [
              "4856"
            ]
          },
          "metadata": {},
          "execution_count": 21
        }
      ],
      "source": [
        "score"
      ]
    },
    {
      "cell_type": "code",
      "execution_count": 22,
      "id": "2426ce1c-dbbc-4bf6-941d-63563d7a585d",
      "metadata": {
        "tags": [],
        "colab": {
          "base_uri": "https://localhost:8080/"
        },
        "id": "2426ce1c-dbbc-4bf6-941d-63563d7a585d",
        "outputId": "70971d51-cb23-42bf-ccff-b64887e899fd"
      },
      "outputs": [
        {
          "output_type": "execute_result",
          "data": {
            "text/plain": [
              "True"
            ]
          },
          "metadata": {},
          "execution_count": 22
        }
      ],
      "source": [
        "done"
      ]
    },
    {
      "cell_type": "code",
      "source": [
        "info"
      ],
      "metadata": {
        "colab": {
          "base_uri": "https://localhost:8080/"
        },
        "id": "ez17vFS8UvKa",
        "outputId": "3a7beb21-9844-4951-f43f-db7bccc29708"
      },
      "id": "ez17vFS8UvKa",
      "execution_count": 23,
      "outputs": [
        {
          "output_type": "execute_result",
          "data": {
            "text/plain": [
              "{'dt': nan, 'y_Env': True, 'self.state': True}"
            ]
          },
          "metadata": {},
          "execution_count": 23
        }
      ]
    },
    {
      "cell_type": "markdown",
      "id": "e6525e4d-5993-4822-80af-a1eedca69b7b",
      "metadata": {
        "tags": [],
        "id": "e6525e4d-5993-4822-80af-a1eedca69b7b"
      },
      "source": [
        "### Visiluation"
      ]
    },
    {
      "cell_type": "code",
      "execution_count": 24,
      "id": "4188dac4-67d7-4709-b3b3-31fef4fd9932",
      "metadata": {
        "tags": [],
        "colab": {
          "base_uri": "https://localhost:8080/",
          "height": 181
        },
        "id": "4188dac4-67d7-4709-b3b3-31fef4fd9932",
        "outputId": "cf2e36f4-26bc-43f1-d83d-a1dac20e9365"
      },
      "outputs": [
        {
          "output_type": "error",
          "ename": "NameError",
          "evalue": "ignored",
          "traceback": [
            "\u001b[0;31m---------------------------------------------------------------------------\u001b[0m",
            "\u001b[0;31mNameError\u001b[0m                                 Traceback (most recent call last)",
            "\u001b[0;32m<ipython-input-24-6cc10cfc12a8>\u001b[0m in \u001b[0;36m<cell line: 1>\u001b[0;34m()\u001b[0m\n\u001b[0;32m----> 1\u001b[0;31m \u001b[0mplt\u001b[0m\u001b[0;34m.\u001b[0m\u001b[0mplot\u001b[0m\u001b[0;34m(\u001b[0m\u001b[0mx_rl1_state\u001b[0m\u001b[0;34m,\u001b[0m\u001b[0my_rl1_state\u001b[0m\u001b[0;34m)\u001b[0m\u001b[0;34m\u001b[0m\u001b[0;34m\u001b[0m\u001b[0m\n\u001b[0m",
            "\u001b[0;31mNameError\u001b[0m: name 'y_rl1_state' is not defined"
          ]
        }
      ],
      "source": [
        "plt.plot(x_rl1_state,y_rl1_state)"
      ]
    },
    {
      "cell_type": "code",
      "execution_count": 170,
      "id": "ffa082e9-d27b-4151-85e2-9f2cff1e645b",
      "metadata": {
        "tags": [],
        "colab": {
          "base_uri": "https://localhost:8080/",
          "height": 810
        },
        "id": "ffa082e9-d27b-4151-85e2-9f2cff1e645b",
        "outputId": "99e199ff-cbc9-4581-fd1b-c08ca2fa3639"
      },
      "outputs": [
        {
          "output_type": "display_data",
          "data": {
            "text/plain": [
              "<Figure size 1000x800 with 5 Axes>"
            ],
            "image/png": "[encoded data removed]"
          },
          "metadata": {}
        }
      ],
      "source": [
        "img = mpimg.imread('equ.png')\n",
        "\n",
        "plt.figure(figsize=(10,8))\n",
        "\n",
        "plt.subplot(3,2,1)\n",
        "plt.plot(x_rl1,y_rl1)\n",
        "plt.title('Relay 1: Starting State')\n",
        "plt.xlabel('Amps')\n",
        "plt.ylabel('Seconds')\n",
        "\n",
        "plt.subplot(3,2,2)\n",
        "plt.plot(x_rl2,y_rl2)\n",
        "plt.title('Relay 2')\n",
        "plt.xlabel('Amps')\n",
        "plt.ylabel('Seconds')\n",
        "\n",
        "plt.subplot(3,2,3)\n",
        "plt.plot(info['x_rl2'],info['y_rl1'])\n",
        "plt.title('Relay 1: Last State')\n",
        "plt.xlabel('Amps')\n",
        "plt.ylabel('Seconds')\n",
        "\n",
        "plt.subplot(3,2,4)\n",
        "plt.plot(info['x_rl2'],info['y_rl1'],'g')\n",
        "plt.plot(x_rl2,y_rl2,'r')\n",
        "plt.xlabel('Amps')\n",
        "plt.ylabel('Seconds')\n",
        "plt.legend([\"Relay 1\", \"Relay 2\"], loc =\"lower right\")\n",
        "\n",
        "plt.subplot(3,2,5)\n",
        "plt.imshow(img)\n",
        "plt.title('')\n",
        "\n",
        "plt.tight_layout()  # Otomatik düzenleme için\n",
        "plt.show()"
      ]
    },
    {
      "cell_type": "markdown",
      "id": "756b7eb3-6f91-4de4-b2e7-e95339cc0754",
      "metadata": {
        "id": "756b7eb3-6f91-4de4-b2e7-e95339cc0754"
      },
      "source": [
        "# Keras RL"
      ]
    },
    {
      "cell_type": "code",
      "source": [
        "a = 0"
      ],
      "metadata": {
        "id": "btlIKwFF_8DT"
      },
      "id": "btlIKwFF_8DT",
      "execution_count": 39,
      "outputs": []
    },
    {
      "cell_type": "code",
      "source": [
        "state, r, done, info = env.step(1)\n",
        "\n",
        "a += r\n",
        "a"
      ],
      "metadata": {
        "colab": {
          "base_uri": "https://localhost:8080/"
        },
        "id": "JD_UYtvD7efV",
        "outputId": "4989f1e0-f1c2-42d3-d097-8bd4bf732e8a"
      },
      "id": "JD_UYtvD7efV",
      "execution_count": 47,
      "outputs": [
        {
          "output_type": "execute_result",
          "data": {
            "text/plain": [
              "8"
            ]
          },
          "metadata": {},
          "execution_count": 47
        }
      ]
    },
    {
      "cell_type": "code",
      "source": [
        "for key,value in info.items():\n",
        "  print(\"Key:{} -- Value:{}\".format(info[key],value))"
      ],
      "metadata": {
        "colab": {
          "base_uri": "https://localhost:8080/"
        },
        "id": "moXlHQrG7mRQ",
        "outputId": "a72d83d3-e3fb-4204-85cc-33b5c8aa0d6b"
      },
      "id": "moXlHQrG7mRQ",
      "execution_count": 33,
      "outputs": [
        {
          "output_type": "stream",
          "name": "stdout",
          "text": [
            "Key:True -- Value:True\n",
            "Key:True -- Value:True\n",
            "Key:True -- Value:True\n"
          ]
        }
      ]
    },
    {
      "cell_type": "code",
      "execution_count": 436,
      "id": "0fe2b251-e9b5-4ae0-a1f8-33a316f7fba8",
      "metadata": {
        "tags": [],
        "id": "0fe2b251-e9b5-4ae0-a1f8-33a316f7fba8",
        "colab": {
          "base_uri": "https://localhost:8080/",
          "height": 36
        },
        "outputId": "9cf12dcb-640f-43d6-d6ff-f7a0fb6230b6"
      },
      "outputs": [
        {
          "output_type": "execute_result",
          "data": {
            "text/plain": [
              "'import numpy as np\\nfrom tensorflow.keras.models import Sequential\\nfrom tensorflow.keras.layers import Dense, Flatten\\nfrom tensorflow.keras.optimizers.legacy import Adam'"
            ],
            "application/vnd.google.colaboratory.intrinsic+json": {
              "type": "string"
            }
          },
          "metadata": {},
          "execution_count": 436
        }
      ],
      "source": [
        "'''import numpy as np\n",
        "from tensorflow.keras.models import Sequential\n",
        "from tensorflow.keras.layers import Dense, Flatten\n",
        "from tensorflow.keras.optimizers.legacy import Adam'''"
      ]
    },
    {
      "cell_type": "code",
      "source": [
        "env.observation_space.sample()"
      ],
      "metadata": {
        "colab": {
          "base_uri": "https://localhost:8080/"
        },
        "id": "6CoeA3L42B8P",
        "outputId": "e07f41f2-f356-4252-a992-8b03bc73b5e5"
      },
      "id": "6CoeA3L42B8P",
      "execution_count": 196,
      "outputs": [
        {
          "output_type": "execute_result",
          "data": {
            "text/plain": [
              "array([21.343666], dtype=float32)"
            ]
          },
          "metadata": {},
          "execution_count": 196
        }
      ]
    },
    {
      "cell_type": "code",
      "execution_count": 197,
      "id": "6aef58a7-3749-4a93-a56c-e3b90667af1d",
      "metadata": {
        "tags": [],
        "id": "6aef58a7-3749-4a93-a56c-e3b90667af1d"
      },
      "outputs": [],
      "source": [
        "states = env.observation_space.shape\n",
        "actions = env.action_space.n"
      ]
    },
    {
      "cell_type": "code",
      "source": [
        "states"
      ],
      "metadata": {
        "colab": {
          "base_uri": "https://localhost:8080/"
        },
        "id": "F2wGeU6R_nGe",
        "outputId": "798991fe-7a50-4d2d-9204-85e5b60bd6f5"
      },
      "id": "F2wGeU6R_nGe",
      "execution_count": 198,
      "outputs": [
        {
          "output_type": "execute_result",
          "data": {
            "text/plain": [
              "(1,)"
            ]
          },
          "metadata": {},
          "execution_count": 198
        }
      ]
    },
    {
      "cell_type": "code",
      "source": [
        "actions"
      ],
      "metadata": {
        "colab": {
          "base_uri": "https://localhost:8080/"
        },
        "id": "kIHPNy5b_WgU",
        "outputId": "93384d1c-289a-46dc-e334-f90cc61f9da3"
      },
      "id": "kIHPNy5b_WgU",
      "execution_count": 61,
      "outputs": [
        {
          "output_type": "execute_result",
          "data": {
            "text/plain": [
              "3"
            ]
          },
          "metadata": {},
          "execution_count": 61
        }
      ]
    },
    {
      "cell_type": "code",
      "execution_count": 194,
      "id": "7ad11835-a1cd-4760-b5dd-9a0e445d7262",
      "metadata": {
        "tags": [],
        "id": "7ad11835-a1cd-4760-b5dd-9a0e445d7262"
      },
      "outputs": [],
      "source": [
        "def build_model(states, actions):\n",
        "    model = Sequential()\n",
        "    model.add(Flatten(input_shape=(1,30)))\n",
        "    model.add(Dense(24, activation='relu'))\n",
        "    model.add(Dense(24, activation='relu'))\n",
        "    model.add(Dense(actions, activation='linear'))\n",
        "    return model"
      ]
    },
    {
      "cell_type": "code",
      "execution_count": 382,
      "id": "0e9c1e46-e348-4f43-9bb9-8f537a06ed45",
      "metadata": {
        "tags": [],
        "id": "0e9c1e46-e348-4f43-9bb9-8f537a06ed45",
        "outputId": "484e4127-4366-4cb8-c6b9-530c8c74d9e2",
        "colab": {
          "base_uri": "https://localhost:8080/",
          "height": 181
        }
      },
      "outputs": [
        {
          "output_type": "error",
          "ename": "NameError",
          "evalue": "ignored",
          "traceback": [
            "\u001b[0;31m---------------------------------------------------------------------------\u001b[0m",
            "\u001b[0;31mNameError\u001b[0m                                 Traceback (most recent call last)",
            "\u001b[0;32m<ipython-input-382-a7ab210f85a1>\u001b[0m in \u001b[0;36m<cell line: 1>\u001b[0;34m()\u001b[0m\n\u001b[0;32m----> 1\u001b[0;31m \u001b[0;32mdel\u001b[0m \u001b[0mmodel\u001b[0m\u001b[0;34m\u001b[0m\u001b[0;34m\u001b[0m\u001b[0m\n\u001b[0m",
            "\u001b[0;31mNameError\u001b[0m: name 'model' is not defined"
          ]
        }
      ],
      "source": [
        "del model"
      ]
    },
    {
      "cell_type": "code",
      "execution_count": 199,
      "id": "cf7cec0c-7510-44b8-8b3f-fe693a6d6357",
      "metadata": {
        "tags": [],
        "id": "cf7cec0c-7510-44b8-8b3f-fe693a6d6357"
      },
      "outputs": [],
      "source": [
        "model = build_model(states, actions)"
      ]
    },
    {
      "cell_type": "code",
      "execution_count": 200,
      "id": "8ff45997-a13a-41b6-9117-5d9efa350438",
      "metadata": {
        "tags": [],
        "colab": {
          "base_uri": "https://localhost:8080/"
        },
        "id": "8ff45997-a13a-41b6-9117-5d9efa350438",
        "outputId": "8d998e51-dc32-45b4-84bc-500e02ba571c"
      },
      "outputs": [
        {
          "output_type": "stream",
          "name": "stdout",
          "text": [
            "Model: \"sequential\"\n",
            "_________________________________________________________________\n",
            " Layer (type)                Output Shape              Param #   \n",
            "=================================================================\n",
            " flatten (Flatten)           (None, 30)                0         \n",
            "                                                                 \n",
            " dense (Dense)               (None, 24)                744       \n",
            "                                                                 \n",
            " dense_1 (Dense)             (None, 24)                600       \n",
            "                                                                 \n",
            " dense_2 (Dense)             (None, 3)                 75        \n",
            "                                                                 \n",
            "=================================================================\n",
            "Total params: 1419 (5.54 KB)\n",
            "Trainable params: 1419 (5.54 KB)\n",
            "Non-trainable params: 0 (0.00 Byte)\n",
            "_________________________________________________________________\n"
          ]
        }
      ],
      "source": [
        "model.summary()"
      ]
    },
    {
      "cell_type": "code",
      "execution_count": 361,
      "id": "74fd38ef-746f-42c5-bc17-50ba9f907fee",
      "metadata": {
        "tags": [],
        "id": "74fd38ef-746f-42c5-bc17-50ba9f907fee",
        "colab": {
          "base_uri": "https://localhost:8080/",
          "height": 36
        },
        "outputId": "66104b6a-664b-4abb-cb6b-c97aaa71c3a6"
      },
      "outputs": [
        {
          "output_type": "execute_result",
          "data": {
            "text/plain": [
              "'import tensorflow as tf\\n\\nfrom keras import __version__\\n\\ntf.keras.__version__ = __version__'"
            ],
            "application/vnd.google.colaboratory.intrinsic+json": {
              "type": "string"
            }
          },
          "metadata": {},
          "execution_count": 361
        }
      ],
      "source": [
        "'''import tensorflow as tf\n",
        "\n",
        "from keras import __version__\n",
        "\n",
        "tf.keras.__version__ = __version__'''"
      ]
    },
    {
      "cell_type": "code",
      "execution_count": 362,
      "id": "aab0d11d-124b-4f84-a90e-289e296d5fb4",
      "metadata": {
        "tags": [],
        "id": "aab0d11d-124b-4f84-a90e-289e296d5fb4",
        "colab": {
          "base_uri": "https://localhost:8080/",
          "height": 36
        },
        "outputId": "e54adbc3-00ba-49bd-d350-77435fe95ebf"
      },
      "outputs": [
        {
          "output_type": "execute_result",
          "data": {
            "text/plain": [
              "'from rl.agents.dqn import DQNAgent\\nfrom rl.policy import BoltzmannQPolicy\\nfrom rl.memory import SequentialMemory'"
            ],
            "application/vnd.google.colaboratory.intrinsic+json": {
              "type": "string"
            }
          },
          "metadata": {},
          "execution_count": 362
        }
      ],
      "source": [
        "'''from rl.agents.dqn import DQNAgent\n",
        "from rl.policy import BoltzmannQPolicy\n",
        "from rl.memory import SequentialMemory'''"
      ]
    },
    {
      "cell_type": "code",
      "source": [
        "def build_agent(model, actions):\n",
        "    policy = BoltzmannQPolicy()\n",
        "    memory = SequentialMemory(limit=50000, window_length=1)\n",
        "    dqn = DQNAgent(model=model, memory=memory, policy=policy,\n",
        "                  nb_actions=actions, nb_steps_warmup=10, target_model_update=1e-2)\n",
        "    return dqn"
      ],
      "metadata": {
        "id": "9OG4X5CpAui-"
      },
      "id": "9OG4X5CpAui-",
      "execution_count": 214,
      "outputs": []
    },
    {
      "cell_type": "code",
      "source": [
        "import tensorflow.python.util.deprecation as deprecation\n",
        "deprecation._PRINT_DEPRECATION_WARNINGS = False"
      ],
      "metadata": {
        "id": "AsogvtpnAwTX"
      },
      "id": "AsogvtpnAwTX",
      "execution_count": 215,
      "outputs": []
    },
    {
      "cell_type": "code",
      "source": [
        "dqn = build_agent(model, actions)\n",
        "dqn.compile(Adam(learning_rate=1e-3), metrics=['mae'])"
      ],
      "metadata": {
        "id": "2_7vljF-A1MH"
      },
      "id": "2_7vljF-A1MH",
      "execution_count": 216,
      "outputs": []
    },
    {
      "cell_type": "code",
      "source": [
        "import tensorflow.python.util.deprecation as deprecation\n",
        "deprecation._PRINT_DEPRECATION_WARNINGS = False\n",
        "history = dqn.fit(env, nb_steps=50000, visualize=False, verbose=1)"
      ],
      "metadata": {
        "colab": {
          "base_uri": "https://localhost:8080/"
        },
        "id": "i0sGEH5KpDGi",
        "outputId": "6ff7c021-520f-4ab2-dfbf-4bd3632516e2"
      },
      "id": "i0sGEH5KpDGi",
      "execution_count": 220,
      "outputs": [
        {
          "output_type": "stream",
          "name": "stdout",
          "text": [
            "Training for 50000 steps ...\n",
            "Interval 1 (0 steps performed)\n",
            "10000/10000 [==============================] - 97s 10ms/step - reward: 1.0845\n",
            "1 episodes - episode_reward: 501.000 [501.000, 501.000] - loss: 1712.992 - mae: 431.392 - mean_q: 330.499 - dt: 0.589\n",
            "\n",
            "Interval 2 (10000 steps performed)\n",
            "10000/10000 [==============================] - 103s 10ms/step - reward: 1.0375\n",
            "1 episodes - episode_reward: 17355.000 [17355.000, 17355.000] - loss: 1241.826 - mae: 325.927 - mean_q: 263.574 - dt: 0.583\n",
            "\n",
            "Interval 3 (20000 steps performed)\n",
            "10000/10000 [==============================] - 104s 10ms/step - reward: 4.5641\n",
            "4 episodes - episode_reward: 7320.750 [3911.000, 14853.000] - loss: 372.882 - mae: 261.559 - mean_q: 175.858 - dt: 0.529\n",
            "\n",
            "Interval 4 (30000 steps performed)\n",
            "10000/10000 [==============================] - 106s 11ms/step - reward: 5.9049\n",
            "2 episodes - episode_reward: 19224.500 [15238.000, 23211.000] - loss: 357.681 - mae: 267.373 - mean_q: 257.327 - dt: 0.394\n",
            "\n",
            "Interval 5 (40000 steps performed)\n",
            "10000/10000 [==============================] - 107s 11ms/step - reward: 1.1185\n",
            "done, took 517.401 seconds\n"
          ]
        }
      ]
    },
    {
      "cell_type": "code",
      "source": [
        "from tensorflow.keras.callbacks import TensorBoard\n",
        "\n",
        "tensorboard = TensorBoard(log_dir='logs', histogram_freq=1)\n",
        "# During model training, add tensorboard callback to log metrics"
      ],
      "metadata": {
        "id": "AoHRInpMWAfE"
      },
      "id": "AoHRInpMWAfE",
      "execution_count": 48,
      "outputs": []
    },
    {
      "cell_type": "code",
      "source": [
        "dqn.fit(env, nb_steps=50000, visualize=False, verbose=1)"
      ],
      "metadata": {
        "colab": {
          "base_uri": "https://localhost:8080/"
        },
        "id": "VGkZ5j2uGMxS",
        "outputId": "b7644bd9-038a-4d8e-a614-dd3e036fd18c"
      },
      "id": "VGkZ5j2uGMxS",
      "execution_count": 49,
      "outputs": [
        {
          "output_type": "stream",
          "name": "stdout",
          "text": [
            "Training for 50000 steps ...\n",
            "Interval 1 (0 steps performed)\n",
            "\r    1/10000 [..............................] - ETA: 14:44 - reward: 1.0000"
          ]
        },
        {
          "output_type": "stream",
          "name": "stderr",
          "text": [
            "/usr/local/lib/python3.10/dist-packages/keras/src/engine/training_v1.py:2359: UserWarning: `Model.state_updates` will be removed in a future version. This property should not be used in TensorFlow 2.0, as `updates` are applied automatically.\n",
            "  updates=self.state_updates,\n",
            "/usr/local/lib/python3.10/dist-packages/rl/memory.py:37: UserWarning: Not enough entries to sample without replacement. Consider increasing your warm-up phase to avoid oversampling!\n",
            "  warnings.warn('Not enough entries to sample without replacement. Consider increasing your warm-up phase to avoid oversampling!')\n",
            "/usr/local/lib/python3.10/dist-packages/rl/memory.py:38: DeprecationWarning: This function is deprecated. Please call randint(1, 10 + 1) instead\n",
            "  batch_idxs = np.random.random_integers(low, high - 1, size=size)\n"
          ]
        },
        {
          "output_type": "stream",
          "name": "stdout",
          "text": [
            "   32/10000 [..............................] - ETA: 5:11 - reward: 1.0000"
          ]
        },
        {
          "output_type": "stream",
          "name": "stderr",
          "text": [
            "/usr/local/lib/python3.10/dist-packages/rl/memory.py:38: DeprecationWarning: This function is deprecated. Please call randint(1, 11 + 1) instead\n",
            "  batch_idxs = np.random.random_integers(low, high - 1, size=size)\n",
            "/usr/local/lib/python3.10/dist-packages/rl/memory.py:38: DeprecationWarning: This function is deprecated. Please call randint(1, 12 + 1) instead\n",
            "  batch_idxs = np.random.random_integers(low, high - 1, size=size)\n",
            "/usr/local/lib/python3.10/dist-packages/rl/memory.py:38: DeprecationWarning: This function is deprecated. Please call randint(1, 13 + 1) instead\n",
            "  batch_idxs = np.random.random_integers(low, high - 1, size=size)\n",
            "/usr/local/lib/python3.10/dist-packages/rl/memory.py:38: DeprecationWarning: This function is deprecated. Please call randint(1, 14 + 1) instead\n",
            "  batch_idxs = np.random.random_integers(low, high - 1, size=size)\n",
            "/usr/local/lib/python3.10/dist-packages/rl/memory.py:38: DeprecationWarning: This function is deprecated. Please call randint(1, 15 + 1) instead\n",
            "  batch_idxs = np.random.random_integers(low, high - 1, size=size)\n",
            "/usr/local/lib/python3.10/dist-packages/rl/memory.py:38: DeprecationWarning: This function is deprecated. Please call randint(1, 16 + 1) instead\n",
            "  batch_idxs = np.random.random_integers(low, high - 1, size=size)\n",
            "/usr/local/lib/python3.10/dist-packages/rl/memory.py:38: DeprecationWarning: This function is deprecated. Please call randint(1, 17 + 1) instead\n",
            "  batch_idxs = np.random.random_integers(low, high - 1, size=size)\n",
            "/usr/local/lib/python3.10/dist-packages/rl/memory.py:38: DeprecationWarning: This function is deprecated. Please call randint(1, 18 + 1) instead\n",
            "  batch_idxs = np.random.random_integers(low, high - 1, size=size)\n",
            "/usr/local/lib/python3.10/dist-packages/rl/memory.py:38: DeprecationWarning: This function is deprecated. Please call randint(1, 19 + 1) instead\n",
            "  batch_idxs = np.random.random_integers(low, high - 1, size=size)\n",
            "/usr/local/lib/python3.10/dist-packages/rl/memory.py:38: DeprecationWarning: This function is deprecated. Please call randint(1, 20 + 1) instead\n",
            "  batch_idxs = np.random.random_integers(low, high - 1, size=size)\n",
            "/usr/local/lib/python3.10/dist-packages/rl/memory.py:38: DeprecationWarning: This function is deprecated. Please call randint(1, 21 + 1) instead\n",
            "  batch_idxs = np.random.random_integers(low, high - 1, size=size)\n",
            "/usr/local/lib/python3.10/dist-packages/rl/memory.py:38: DeprecationWarning: This function is deprecated. Please call randint(1, 22 + 1) instead\n",
            "  batch_idxs = np.random.random_integers(low, high - 1, size=size)\n",
            "/usr/local/lib/python3.10/dist-packages/rl/memory.py:38: DeprecationWarning: This function is deprecated. Please call randint(1, 23 + 1) instead\n",
            "  batch_idxs = np.random.random_integers(low, high - 1, size=size)\n",
            "/usr/local/lib/python3.10/dist-packages/rl/memory.py:38: DeprecationWarning: This function is deprecated. Please call randint(1, 24 + 1) instead\n",
            "  batch_idxs = np.random.random_integers(low, high - 1, size=size)\n",
            "/usr/local/lib/python3.10/dist-packages/rl/memory.py:38: DeprecationWarning: This function is deprecated. Please call randint(1, 25 + 1) instead\n",
            "  batch_idxs = np.random.random_integers(low, high - 1, size=size)\n",
            "/usr/local/lib/python3.10/dist-packages/rl/memory.py:38: DeprecationWarning: This function is deprecated. Please call randint(1, 26 + 1) instead\n",
            "  batch_idxs = np.random.random_integers(low, high - 1, size=size)\n",
            "/usr/local/lib/python3.10/dist-packages/rl/memory.py:38: DeprecationWarning: This function is deprecated. Please call randint(1, 27 + 1) instead\n",
            "  batch_idxs = np.random.random_integers(low, high - 1, size=size)\n",
            "/usr/local/lib/python3.10/dist-packages/rl/memory.py:38: DeprecationWarning: This function is deprecated. Please call randint(1, 28 + 1) instead\n",
            "  batch_idxs = np.random.random_integers(low, high - 1, size=size)\n",
            "/usr/local/lib/python3.10/dist-packages/rl/memory.py:38: DeprecationWarning: This function is deprecated. Please call randint(1, 29 + 1) instead\n",
            "  batch_idxs = np.random.random_integers(low, high - 1, size=size)\n",
            "/usr/local/lib/python3.10/dist-packages/rl/memory.py:38: DeprecationWarning: This function is deprecated. Please call randint(1, 30 + 1) instead\n",
            "  batch_idxs = np.random.random_integers(low, high - 1, size=size)\n",
            "/usr/local/lib/python3.10/dist-packages/rl/memory.py:38: DeprecationWarning: This function is deprecated. Please call randint(1, 31 + 1) instead\n",
            "  batch_idxs = np.random.random_integers(low, high - 1, size=size)\n"
          ]
        },
        {
          "output_type": "stream",
          "name": "stdout",
          "text": [
            "   86/10000 [..............................] - ETA: 2:43 - reward: 1.0000"
          ]
        },
        {
          "output_type": "stream",
          "name": "stderr",
          "text": [
            "<ipython-input-7-24d388c21696>:3: RuntimeWarning: invalid value encountered in double_scalars\n",
            "  value = TMS_Value*((0.14)/(x**0.02-1))\n"
          ]
        },
        {
          "output_type": "stream",
          "name": "stdout",
          "text": [
            "10000/10000 [==============================] - 93s 9ms/step - reward: 1.0000\n",
            "166 episodes - episode_reward: 60.000 [60.000, 60.000] - loss: 13.951 - mae: 30.379 - mean_q: 42.286 - dt: 1.000 - y_Env: 1.000 - self.state: 1.000\n",
            "\n",
            "Interval 2 (10000 steps performed)\n",
            "10000/10000 [==============================] - 97s 10ms/step - reward: 1.0000\n",
            "167 episodes - episode_reward: 60.000 [60.000, 60.000] - loss: 15.808 - mae: 29.262 - mean_q: 44.314 - dt: 1.000 - y_Env: 1.000 - self.state: 1.000\n",
            "\n",
            "Interval 3 (20000 steps performed)\n",
            "10000/10000 [==============================] - 97s 10ms/step - reward: 1.0000\n",
            "167 episodes - episode_reward: 60.000 [60.000, 60.000] - loss: 15.069 - mae: 28.036 - mean_q: 42.960 - dt: 1.000 - y_Env: 1.000 - self.state: 1.000\n",
            "\n",
            "Interval 4 (30000 steps performed)\n",
            "10000/10000 [==============================] - 99s 10ms/step - reward: 1.0000\n",
            "166 episodes - episode_reward: 60.000 [60.000, 60.000] - loss: 15.050 - mae: 25.567 - mean_q: 42.793 - dt: 1.000 - y_Env: 1.000 - self.state: 1.000\n",
            "\n",
            "Interval 5 (40000 steps performed)\n",
            "10000/10000 [==============================] - 104s 10ms/step - reward: 1.0000\n",
            "done, took 490.719 seconds\n"
          ]
        },
        {
          "output_type": "execute_result",
          "data": {
            "text/plain": [
              "<keras.src.callbacks.History at 0x7ab04e061cf0>"
            ]
          },
          "metadata": {},
          "execution_count": 49
        }
      ]
    },
    {
      "cell_type": "code",
      "execution_count": 66,
      "id": "742ccc85-8c87-489c-ad57-e473e8fce121",
      "metadata": {
        "tags": [],
        "colab": {
          "base_uri": "https://localhost:8080/"
        },
        "id": "742ccc85-8c87-489c-ad57-e473e8fce121",
        "outputId": "81c0c75f-109c-4181-b5dd-786af9406526"
      },
      "outputs": [
        {
          "output_type": "stream",
          "name": "stdout",
          "text": [
            "Testing for 70 episodes ...\n",
            "Episode 1: reward: 6000.000, steps: 60\n",
            "Episode 2: reward: 6000.000, steps: 60\n",
            "Episode 3: reward: 6000.000, steps: 60\n",
            "Episode 4: reward: 6000.000, steps: 60\n",
            "Episode 5: reward: 6000.000, steps: 60\n",
            "Episode 6: reward: 6000.000, steps: 60\n",
            "Episode 7: reward: 6000.000, steps: 60\n",
            "Episode 8: reward: 6000.000, steps: 60\n",
            "Episode 9: reward: 6000.000, steps: 60\n",
            "Episode 10: reward: 6000.000, steps: 60\n",
            "Episode 11: reward: 6000.000, steps: 60\n",
            "Episode 12: reward: 6000.000, steps: 60\n",
            "Episode 13: reward: 6000.000, steps: 60\n",
            "Episode 14: reward: 6000.000, steps: 60\n",
            "Episode 15: reward: 6000.000, steps: 60\n",
            "Episode 16: reward: 6000.000, steps: 60\n",
            "Episode 17: reward: 6000.000, steps: 60\n",
            "Episode 18: reward: 6000.000, steps: 60\n",
            "Episode 19: reward: 6000.000, steps: 60\n",
            "Episode 20: reward: 6000.000, steps: 60\n",
            "Episode 21: reward: 6000.000, steps: 60\n",
            "Episode 22: reward: 6000.000, steps: 60\n",
            "Episode 23: reward: 6000.000, steps: 60\n",
            "Episode 24: reward: 6000.000, steps: 60\n",
            "Episode 25: reward: 6000.000, steps: 60\n",
            "Episode 26: reward: 6000.000, steps: 60\n",
            "Episode 27: reward: 6000.000, steps: 60\n",
            "Episode 28: reward: 6000.000, steps: 60\n",
            "Episode 29: reward: 6000.000, steps: 60\n",
            "Episode 30: reward: 6000.000, steps: 60\n",
            "Episode 31: reward: 6000.000, steps: 60\n",
            "Episode 32: reward: 6000.000, steps: 60\n",
            "Episode 33: reward: 6000.000, steps: 60\n",
            "Episode 34: reward: 6000.000, steps: 60\n",
            "Episode 35: reward: 6000.000, steps: 60\n",
            "Episode 36: reward: 6000.000, steps: 60\n",
            "Episode 37: reward: 6000.000, steps: 60\n",
            "Episode 38: reward: 6000.000, steps: 60\n",
            "Episode 39: reward: 6000.000, steps: 60\n",
            "Episode 40: reward: 6000.000, steps: 60\n",
            "Episode 41: reward: 6000.000, steps: 60\n",
            "Episode 42: reward: 6000.000, steps: 60\n",
            "Episode 43: reward: 6000.000, steps: 60\n",
            "Episode 44: reward: 6000.000, steps: 60\n",
            "Episode 45: reward: 6000.000, steps: 60\n",
            "Episode 46: reward: 6000.000, steps: 60\n",
            "Episode 47: reward: 6000.000, steps: 60\n",
            "Episode 48: reward: 6000.000, steps: 60\n",
            "Episode 49: reward: 6000.000, steps: 60\n",
            "Episode 50: reward: 6000.000, steps: 60\n",
            "Episode 51: reward: 6000.000, steps: 60\n",
            "Episode 52: reward: 6000.000, steps: 60\n",
            "Episode 53: reward: 6000.000, steps: 60\n",
            "Episode 54: reward: 6000.000, steps: 60\n",
            "Episode 55: reward: 6000.000, steps: 60\n",
            "Episode 56: reward: 6000.000, steps: 60\n",
            "Episode 57: reward: 6000.000, steps: 60\n",
            "Episode 58: reward: 6000.000, steps: 60\n",
            "Episode 59: reward: 6000.000, steps: 60\n",
            "Episode 60: reward: 6000.000, steps: 60\n",
            "Episode 61: reward: 6000.000, steps: 60\n",
            "Episode 62: reward: 6000.000, steps: 60\n",
            "Episode 63: reward: 6000.000, steps: 60\n",
            "Episode 64: reward: 6000.000, steps: 60\n",
            "Episode 65: reward: 6000.000, steps: 60\n",
            "Episode 66: reward: 6000.000, steps: 60\n",
            "Episode 67: reward: 6000.000, steps: 60\n",
            "Episode 68: reward: 6000.000, steps: 60\n",
            "Episode 69: reward: 6000.000, steps: 60\n",
            "Episode 70: reward: 6000.000, steps: 60\n",
            "6000.0\n"
          ]
        }
      ],
      "source": [
        "scores = dqn.test(env, nb_episodes=70, visualize=False)\n",
        "print(np.mean(scores.history['episode_reward']))"
      ]
    },
    {
      "cell_type": "code",
      "source": [
        "import tensorflow.python.util.deprecation as deprecation\n",
        "deprecation._PRINT_DEPRECATION_WARNINGS = False"
      ],
      "metadata": {
        "id": "ZjjHxD3_KDkY"
      },
      "id": "ZjjHxD3_KDkY",
      "execution_count": 462,
      "outputs": []
    },
    {
      "cell_type": "code",
      "source": [
        "dqn.test(env,visualize=False)"
      ],
      "metadata": {
        "colab": {
          "base_uri": "https://localhost:8080/",
          "height": 387
        },
        "id": "55AZGGfmKEdx",
        "outputId": "53e4837b-57a8-4e6c-91cb-bdbac2311f69"
      },
      "id": "55AZGGfmKEdx",
      "execution_count": 463,
      "outputs": [
        {
          "output_type": "stream",
          "name": "stdout",
          "text": [
            "Testing for 1 episodes ...\n"
          ]
        },
        {
          "output_type": "stream",
          "name": "stderr",
          "text": [
            "<ipython-input-419-24d388c21696>:3: RuntimeWarning: invalid value encountered in double_scalars\n",
            "  value = TMS_Value*((0.14)/(x**0.02-1))\n"
          ]
        },
        {
          "output_type": "error",
          "ename": "KeyboardInterrupt",
          "evalue": "ignored",
          "traceback": [
            "\u001b[0;31m---------------------------------------------------------------------------\u001b[0m",
            "\u001b[0;31mKeyboardInterrupt\u001b[0m                         Traceback (most recent call last)",
            "\u001b[0;32m<ipython-input-463-23a00b6bfead>\u001b[0m in \u001b[0;36m<cell line: 1>\u001b[0;34m()\u001b[0m\n\u001b[0;32m----> 1\u001b[0;31m \u001b[0mdqn\u001b[0m\u001b[0;34m.\u001b[0m\u001b[0mtest\u001b[0m\u001b[0;34m(\u001b[0m\u001b[0menv\u001b[0m\u001b[0;34m,\u001b[0m\u001b[0mvisualize\u001b[0m\u001b[0;34m=\u001b[0m\u001b[0;32mFalse\u001b[0m\u001b[0;34m)\u001b[0m\u001b[0;34m\u001b[0m\u001b[0;34m\u001b[0m\u001b[0m\n\u001b[0m",
            "\u001b[0;32m/usr/local/lib/python3.10/dist-packages/rl/core.py\u001b[0m in \u001b[0;36mtest\u001b[0;34m(self, env, nb_episodes, action_repetition, callbacks, visualize, nb_max_episode_steps, nb_max_start_steps, start_step_policy, verbose)\u001b[0m\n\u001b[1;32m    339\u001b[0m                 \u001b[0mcallbacks\u001b[0m\u001b[0;34m.\u001b[0m\u001b[0mon_step_begin\u001b[0m\u001b[0;34m(\u001b[0m\u001b[0mepisode_step\u001b[0m\u001b[0;34m)\u001b[0m\u001b[0;34m\u001b[0m\u001b[0;34m\u001b[0m\u001b[0m\n\u001b[1;32m    340\u001b[0m \u001b[0;34m\u001b[0m\u001b[0m\n\u001b[0;32m--> 341\u001b[0;31m                 \u001b[0maction\u001b[0m \u001b[0;34m=\u001b[0m \u001b[0mself\u001b[0m\u001b[0;34m.\u001b[0m\u001b[0mforward\u001b[0m\u001b[0;34m(\u001b[0m\u001b[0mobservation\u001b[0m\u001b[0;34m)\u001b[0m\u001b[0;34m\u001b[0m\u001b[0;34m\u001b[0m\u001b[0m\n\u001b[0m\u001b[1;32m    342\u001b[0m                 \u001b[0;32mif\u001b[0m \u001b[0mself\u001b[0m\u001b[0;34m.\u001b[0m\u001b[0mprocessor\u001b[0m \u001b[0;32mis\u001b[0m \u001b[0;32mnot\u001b[0m \u001b[0;32mNone\u001b[0m\u001b[0;34m:\u001b[0m\u001b[0;34m\u001b[0m\u001b[0;34m\u001b[0m\u001b[0m\n\u001b[1;32m    343\u001b[0m                     \u001b[0maction\u001b[0m \u001b[0;34m=\u001b[0m \u001b[0mself\u001b[0m\u001b[0;34m.\u001b[0m\u001b[0mprocessor\u001b[0m\u001b[0;34m.\u001b[0m\u001b[0mprocess_action\u001b[0m\u001b[0;34m(\u001b[0m\u001b[0maction\u001b[0m\u001b[0;34m)\u001b[0m\u001b[0;34m\u001b[0m\u001b[0;34m\u001b[0m\u001b[0m\n",
            "\u001b[0;32m/usr/local/lib/python3.10/dist-packages/rl/agents/dqn.py\u001b[0m in \u001b[0;36mforward\u001b[0;34m(self, observation)\u001b[0m\n\u001b[1;32m    222\u001b[0m         \u001b[0;31m# Select an action.\u001b[0m\u001b[0;34m\u001b[0m\u001b[0;34m\u001b[0m\u001b[0m\n\u001b[1;32m    223\u001b[0m         \u001b[0mstate\u001b[0m \u001b[0;34m=\u001b[0m \u001b[0mself\u001b[0m\u001b[0;34m.\u001b[0m\u001b[0mmemory\u001b[0m\u001b[0;34m.\u001b[0m\u001b[0mget_recent_state\u001b[0m\u001b[0;34m(\u001b[0m\u001b[0mobservation\u001b[0m\u001b[0;34m)\u001b[0m\u001b[0;34m\u001b[0m\u001b[0;34m\u001b[0m\u001b[0m\n\u001b[0;32m--> 224\u001b[0;31m         \u001b[0mq_values\u001b[0m \u001b[0;34m=\u001b[0m \u001b[0mself\u001b[0m\u001b[0;34m.\u001b[0m\u001b[0mcompute_q_values\u001b[0m\u001b[0;34m(\u001b[0m\u001b[0mstate\u001b[0m\u001b[0;34m)\u001b[0m\u001b[0;34m\u001b[0m\u001b[0;34m\u001b[0m\u001b[0m\n\u001b[0m\u001b[1;32m    225\u001b[0m         \u001b[0;32mif\u001b[0m \u001b[0mself\u001b[0m\u001b[0;34m.\u001b[0m\u001b[0mtraining\u001b[0m\u001b[0;34m:\u001b[0m\u001b[0;34m\u001b[0m\u001b[0;34m\u001b[0m\u001b[0m\n\u001b[1;32m    226\u001b[0m             \u001b[0maction\u001b[0m \u001b[0;34m=\u001b[0m \u001b[0mself\u001b[0m\u001b[0;34m.\u001b[0m\u001b[0mpolicy\u001b[0m\u001b[0;34m.\u001b[0m\u001b[0mselect_action\u001b[0m\u001b[0;34m(\u001b[0m\u001b[0mq_values\u001b[0m\u001b[0;34m=\u001b[0m\u001b[0mq_values\u001b[0m\u001b[0;34m)\u001b[0m\u001b[0;34m\u001b[0m\u001b[0;34m\u001b[0m\u001b[0m\n",
            "\u001b[0;32m/usr/local/lib/python3.10/dist-packages/rl/agents/dqn.py\u001b[0m in \u001b[0;36mcompute_q_values\u001b[0;34m(self, state)\u001b[0m\n\u001b[1;32m     66\u001b[0m \u001b[0;34m\u001b[0m\u001b[0m\n\u001b[1;32m     67\u001b[0m     \u001b[0;32mdef\u001b[0m \u001b[0mcompute_q_values\u001b[0m\u001b[0;34m(\u001b[0m\u001b[0mself\u001b[0m\u001b[0;34m,\u001b[0m \u001b[0mstate\u001b[0m\u001b[0;34m)\u001b[0m\u001b[0;34m:\u001b[0m\u001b[0;34m\u001b[0m\u001b[0;34m\u001b[0m\u001b[0m\n\u001b[0;32m---> 68\u001b[0;31m         \u001b[0mq_values\u001b[0m \u001b[0;34m=\u001b[0m \u001b[0mself\u001b[0m\u001b[0;34m.\u001b[0m\u001b[0mcompute_batch_q_values\u001b[0m\u001b[0;34m(\u001b[0m\u001b[0;34m[\u001b[0m\u001b[0mstate\u001b[0m\u001b[0;34m]\u001b[0m\u001b[0;34m)\u001b[0m\u001b[0;34m.\u001b[0m\u001b[0mflatten\u001b[0m\u001b[0;34m(\u001b[0m\u001b[0;34m)\u001b[0m\u001b[0;34m\u001b[0m\u001b[0;34m\u001b[0m\u001b[0m\n\u001b[0m\u001b[1;32m     69\u001b[0m         \u001b[0;32massert\u001b[0m \u001b[0mq_values\u001b[0m\u001b[0;34m.\u001b[0m\u001b[0mshape\u001b[0m \u001b[0;34m==\u001b[0m \u001b[0;34m(\u001b[0m\u001b[0mself\u001b[0m\u001b[0;34m.\u001b[0m\u001b[0mnb_actions\u001b[0m\u001b[0;34m,\u001b[0m\u001b[0;34m)\u001b[0m\u001b[0;34m\u001b[0m\u001b[0;34m\u001b[0m\u001b[0m\n\u001b[1;32m     70\u001b[0m         \u001b[0;32mreturn\u001b[0m \u001b[0mq_values\u001b[0m\u001b[0;34m\u001b[0m\u001b[0;34m\u001b[0m\u001b[0m\n",
            "\u001b[0;32m/usr/local/lib/python3.10/dist-packages/rl/agents/dqn.py\u001b[0m in \u001b[0;36mcompute_batch_q_values\u001b[0;34m(self, state_batch)\u001b[0m\n\u001b[1;32m     61\u001b[0m     \u001b[0;32mdef\u001b[0m \u001b[0mcompute_batch_q_values\u001b[0m\u001b[0;34m(\u001b[0m\u001b[0mself\u001b[0m\u001b[0;34m,\u001b[0m \u001b[0mstate_batch\u001b[0m\u001b[0;34m)\u001b[0m\u001b[0;34m:\u001b[0m\u001b[0;34m\u001b[0m\u001b[0;34m\u001b[0m\u001b[0m\n\u001b[1;32m     62\u001b[0m         \u001b[0mbatch\u001b[0m \u001b[0;34m=\u001b[0m \u001b[0mself\u001b[0m\u001b[0;34m.\u001b[0m\u001b[0mprocess_state_batch\u001b[0m\u001b[0;34m(\u001b[0m\u001b[0mstate_batch\u001b[0m\u001b[0;34m)\u001b[0m\u001b[0;34m\u001b[0m\u001b[0;34m\u001b[0m\u001b[0m\n\u001b[0;32m---> 63\u001b[0;31m         \u001b[0mq_values\u001b[0m \u001b[0;34m=\u001b[0m \u001b[0mself\u001b[0m\u001b[0;34m.\u001b[0m\u001b[0mmodel\u001b[0m\u001b[0;34m.\u001b[0m\u001b[0mpredict_on_batch\u001b[0m\u001b[0;34m(\u001b[0m\u001b[0mbatch\u001b[0m\u001b[0;34m)\u001b[0m\u001b[0;34m\u001b[0m\u001b[0;34m\u001b[0m\u001b[0m\n\u001b[0m\u001b[1;32m     64\u001b[0m         \u001b[0;32massert\u001b[0m \u001b[0mq_values\u001b[0m\u001b[0;34m.\u001b[0m\u001b[0mshape\u001b[0m \u001b[0;34m==\u001b[0m \u001b[0;34m(\u001b[0m\u001b[0mlen\u001b[0m\u001b[0;34m(\u001b[0m\u001b[0mstate_batch\u001b[0m\u001b[0;34m)\u001b[0m\u001b[0;34m,\u001b[0m \u001b[0mself\u001b[0m\u001b[0;34m.\u001b[0m\u001b[0mnb_actions\u001b[0m\u001b[0;34m)\u001b[0m\u001b[0;34m\u001b[0m\u001b[0;34m\u001b[0m\u001b[0m\n\u001b[1;32m     65\u001b[0m         \u001b[0;32mreturn\u001b[0m \u001b[0mq_values\u001b[0m\u001b[0;34m\u001b[0m\u001b[0;34m\u001b[0m\u001b[0m\n",
            "\u001b[0;32m/usr/local/lib/python3.10/dist-packages/keras/src/engine/training_v1.py\u001b[0m in \u001b[0;36mpredict_on_batch\u001b[0;34m(self, x)\u001b[0m\n\u001b[1;32m   1319\u001b[0m \u001b[0;34m\u001b[0m\u001b[0m\n\u001b[1;32m   1320\u001b[0m         \u001b[0mself\u001b[0m\u001b[0;34m.\u001b[0m\u001b[0m_make_predict_function\u001b[0m\u001b[0;34m(\u001b[0m\u001b[0;34m)\u001b[0m\u001b[0;34m\u001b[0m\u001b[0;34m\u001b[0m\u001b[0m\n\u001b[0;32m-> 1321\u001b[0;31m         \u001b[0moutputs\u001b[0m \u001b[0;34m=\u001b[0m \u001b[0mself\u001b[0m\u001b[0;34m.\u001b[0m\u001b[0mpredict_function\u001b[0m\u001b[0;34m(\u001b[0m\u001b[0minputs\u001b[0m\u001b[0;34m)\u001b[0m\u001b[0;34m\u001b[0m\u001b[0;34m\u001b[0m\u001b[0m\n\u001b[0m\u001b[1;32m   1322\u001b[0m \u001b[0;34m\u001b[0m\u001b[0m\n\u001b[1;32m   1323\u001b[0m         \u001b[0;32mif\u001b[0m \u001b[0mlen\u001b[0m\u001b[0;34m(\u001b[0m\u001b[0moutputs\u001b[0m\u001b[0;34m)\u001b[0m \u001b[0;34m==\u001b[0m \u001b[0;36m1\u001b[0m\u001b[0;34m:\u001b[0m\u001b[0;34m\u001b[0m\u001b[0;34m\u001b[0m\u001b[0m\n",
            "\u001b[0;32m/usr/local/lib/python3.10/dist-packages/keras/src/backend.py\u001b[0m in \u001b[0;36m__call__\u001b[0;34m(self, inputs)\u001b[0m\n\u001b[1;32m   4620\u001b[0m         \u001b[0;32mreturn\u001b[0m \u001b[0mtf\u001b[0m\u001b[0;34m.\u001b[0m\u001b[0mnest\u001b[0m\u001b[0;34m.\u001b[0m\u001b[0mmap_structure\u001b[0m\u001b[0;34m(\u001b[0m\u001b[0mself\u001b[0m\u001b[0;34m.\u001b[0m\u001b[0m_eval_if_composite\u001b[0m\u001b[0;34m,\u001b[0m \u001b[0moutput_structure\u001b[0m\u001b[0;34m)\u001b[0m\u001b[0;34m\u001b[0m\u001b[0;34m\u001b[0m\u001b[0m\n\u001b[1;32m   4621\u001b[0m \u001b[0;34m\u001b[0m\u001b[0m\n\u001b[0;32m-> 4622\u001b[0;31m \u001b[0;34m\u001b[0m\u001b[0m\n\u001b[0m\u001b[1;32m   4623\u001b[0m \u001b[0;34m@\u001b[0m\u001b[0mkeras_export\u001b[0m\u001b[0;34m(\u001b[0m\u001b[0;34m\"keras.backend.function\"\u001b[0m\u001b[0;34m)\u001b[0m\u001b[0;34m\u001b[0m\u001b[0;34m\u001b[0m\u001b[0m\n\u001b[1;32m   4624\u001b[0m \u001b[0;34m@\u001b[0m\u001b[0mdoc_controls\u001b[0m\u001b[0;34m.\u001b[0m\u001b[0mdo_not_generate_docs\u001b[0m\u001b[0;34m\u001b[0m\u001b[0;34m\u001b[0m\u001b[0m\n",
            "\u001b[0;32m/usr/local/lib/python3.10/dist-packages/tensorflow/python/util/nest.py\u001b[0m in \u001b[0;36mmap_structure\u001b[0;34m(func, *structure, **kwargs)\u001b[0m\n\u001b[1;32m    627\u001b[0m     \u001b[0mValueError\u001b[0m\u001b[0;34m:\u001b[0m \u001b[0mIf\u001b[0m \u001b[0mno\u001b[0m \u001b[0mstructure\u001b[0m \u001b[0;32mis\u001b[0m \u001b[0mprovided\u001b[0m \u001b[0;32mor\u001b[0m \u001b[0;32mif\u001b[0m \u001b[0mthe\u001b[0m \u001b[0mstructures\u001b[0m \u001b[0mdo\u001b[0m \u001b[0;32mnot\u001b[0m \u001b[0mmatch\u001b[0m\u001b[0;34m\u001b[0m\u001b[0;34m\u001b[0m\u001b[0m\n\u001b[1;32m    628\u001b[0m       \u001b[0meach\u001b[0m \u001b[0mother\u001b[0m \u001b[0mby\u001b[0m \u001b[0mtype\u001b[0m\u001b[0;34m.\u001b[0m\u001b[0;34m\u001b[0m\u001b[0;34m\u001b[0m\u001b[0m\n\u001b[0;32m--> 629\u001b[0;31m     \u001b[0mValueError\u001b[0m\u001b[0;34m:\u001b[0m \u001b[0mIf\u001b[0m \u001b[0mwrong\u001b[0m \u001b[0mkeyword\u001b[0m \u001b[0marguments\u001b[0m \u001b[0mare\u001b[0m \u001b[0mprovided\u001b[0m\u001b[0;34m.\u001b[0m\u001b[0;34m\u001b[0m\u001b[0;34m\u001b[0m\u001b[0m\n\u001b[0m\u001b[1;32m    630\u001b[0m   \"\"\"\n\u001b[1;32m    631\u001b[0m   return nest_util.map_structure(\n",
            "\u001b[0;32m/usr/local/lib/python3.10/dist-packages/tensorflow/python/util/nest_util.py\u001b[0m in \u001b[0;36mmap_structure\u001b[0;34m(modality, func, *structure, **kwargs)\u001b[0m\n\u001b[1;32m   1166\u001b[0m   \u001b[0;32melse\u001b[0m\u001b[0;34m:\u001b[0m\u001b[0;34m\u001b[0m\u001b[0;34m\u001b[0m\u001b[0m\n\u001b[1;32m   1167\u001b[0m     raise ValueError(\n\u001b[0;32m-> 1168\u001b[0;31m         \u001b[0;34m\"Unknown modality used {} for nested structure\"\u001b[0m\u001b[0;34m.\u001b[0m\u001b[0mformat\u001b[0m\u001b[0;34m(\u001b[0m\u001b[0mmodality\u001b[0m\u001b[0;34m)\u001b[0m\u001b[0;34m\u001b[0m\u001b[0;34m\u001b[0m\u001b[0m\n\u001b[0m\u001b[1;32m   1169\u001b[0m     )\n\u001b[1;32m   1170\u001b[0m \u001b[0;34m\u001b[0m\u001b[0m\n",
            "\u001b[0;31mKeyboardInterrupt\u001b[0m: "
          ]
        }
      ]
    },
    {
      "cell_type": "code",
      "source": [
        " import numpy as np\n",
        "import matplotlib.pyplot as plt\n",
        "\n",
        "# Assuming you have a trained DQN agent and an environment\n",
        "\n",
        "# Function to visualize Q-values for different states\n",
        "def visualize_q_values(agent, states):\n",
        "    q_values = []\n",
        "    for state in states:\n",
        "        q_values.append(agent.get_q_values(state))  # Assuming agent has a method to get Q-values for a state\n",
        "\n",
        "    q_values = np.array(q_values)\n",
        "\n",
        "    plt.figure(figsize=(10, 6))\n",
        "    for action_idx in range(agent.action_space):\n",
        "        plt.plot(q_values[:, action_idx], label=f'Action {action_idx}')\n",
        "    plt.xlabel('States')\n",
        "    plt.ylabel('Q-values')\n",
        "    plt.title('Q-values for different actions in states')\n",
        "    plt.legend()\n",
        "    plt.show()\n",
        "\n",
        "# Function to visualize action distribution\n",
        "def visualize_action_distribution(agent, episodes):\n",
        "    action_counts = np.zeros(agent.action_space)\n",
        "    for episode in episodes:\n",
        "        actions = agent.get_actions(episode)  # Assuming agent has a method to get actions taken in an episode\n",
        "        unique, counts = np.unique(actions, return_counts=True)\n",
        "        for idx, action in enumerate(unique):\n",
        "            action_counts[action] += counts[idx]\n",
        "\n",
        "    plt.figure(figsize=(8, 6))\n",
        "    plt.bar(range(agent.action_space), action_counts)\n",
        "    plt.xlabel('Actions')\n",
        "    plt.ylabel('Frequency')\n",
        "    plt.title('Action Distribution')\n",
        "    plt.show()\n",
        "\n",
        "# Assuming you have states and episodes data available for visualization\n",
        "# states = [...]  # List of states\n",
        "# episodes = [...]  # List of episodes\n",
        "\n",
        "# Visualizing Q-values\n",
        "visualize_q_values(dqn, states)\n",
        "\n",
        "# Visualizing action distribution\n",
        "visualize_action_distribution(dqn, 10)\n"
      ],
      "metadata": {
        "id": "mee1uTx3184r"
      },
      "id": "mee1uTx3184r",
      "execution_count": 445,
      "outputs": []
    },
    {
      "cell_type": "code",
      "source": [],
      "metadata": {
        "id": "DHO4J091LHKB"
      },
      "id": "DHO4J091LHKB",
      "execution_count": null,
      "outputs": []
    }
  ],
  "metadata": {
    "kernelspec": {
      "display_name": "Python 3 (ipykernel)",
      "language": "python",
      "name": "python3"
    },
    "language_info": {
      "codemirror_mode": {
        "name": "ipython",
        "version": 3
      },
      "file_extension": ".py",
      "mimetype": "text/x-python",
      "name": "python",
      "nbconvert_exporter": "python",
      "pygments_lexer": "ipython3",
      "version": "3.11.5"
    },
    "colab": {
      "provenance": [],
      "collapsed_sections": [
        "f1aee54a-12db-4623-902a-62de24accf24",
        "914c522b-49fd-4c97-94c2-9b8c4b15d5a8",
        "189215aa-d27d-4e4e-8c40-a32b267ccddb",
        "e6525e4d-5993-4822-80af-a1eedca69b7b"
      ],
      "include_colab_link": true
    }
  },
  "nbformat": 4,
  "nbformat_minor": 5
}